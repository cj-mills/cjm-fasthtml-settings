{
 "cells": [
  {
   "cell_type": "markdown",
   "id": "3f8e9d2a",
   "metadata": {},
   "source": [
    "# Plugins\n",
    "\n",
    "> Optional plugin integration for extensible settings systems"
   ]
  },
  {
   "cell_type": "code",
   "execution_count": null,
   "id": "aa19283b",
   "metadata": {},
   "outputs": [],
   "source": [
    "#| default_exp plugins"
   ]
  },
  {
   "cell_type": "code",
   "execution_count": null,
   "id": "7c2384bb",
   "metadata": {},
   "outputs": [],
   "source": [
    "#| hide\n",
    "from nbdev.showdoc import *"
   ]
  },
  {
   "cell_type": "code",
   "execution_count": null,
   "id": "d4e5c8a9",
   "metadata": {},
   "outputs": [],
   "source": [
    "#| export\n",
    "import tempfile\n",
    "from pathlib import Path\n",
    "from typing import Dict, Any, Optional, Protocol, runtime_checkable\n",
    "\n",
    "# Import from cjm-fasthtml-plugins\n",
    "from cjm_fasthtml_plugins.core.metadata import PluginMetadata"
   ]
  },
  {
   "cell_type": "markdown",
   "id": "b0ca8e2c",
   "metadata": {},
   "source": [
    "## Plugin Integration\n",
    "\n",
    "This module provides integration with the `cjm-fasthtml-plugins` library for extensible settings systems.\n",
    "\n",
    "- Uses `PluginMetadata` from `cjm-fasthtml-plugins`\n",
    "- Defines `PluginRegistryProtocol` for registry compatibility\n",
    "- Applications should use `UnifiedPluginRegistry` from `cjm-fasthtml-plugins` instead of `SimplePluginRegistry`"
   ]
  },
  {
   "cell_type": "code",
   "execution_count": null,
   "id": "e5c9a7d8",
   "metadata": {},
   "outputs": [],
   "source": [
    "# Cell removed - using PluginMetadata from cjm-fasthtml-plugins"
   ]
  },
  {
   "cell_type": "code",
   "execution_count": null,
   "id": "81a2c8f7",
   "metadata": {},
   "outputs": [],
   "source": [
    "# Cell removed - PluginMetadata now imported from cjm-fasthtml-plugins\n",
    "# The imported version includes additional features:\n",
    "# - Execution mode tracking (local, cloud, subprocess, etc.)\n",
    "# - Resource management (child PIDs, containers, cloud instances)\n",
    "# - Lifecycle awareness support"
   ]
  },
  {
   "cell_type": "markdown",
   "id": "02bdcbf6",
   "metadata": {},
   "source": [
    "## Plugin Registry Protocol"
   ]
  },
  {
   "cell_type": "code",
   "execution_count": null,
   "id": "b5f8e2d1",
   "metadata": {},
   "outputs": [],
   "source": [
    "#| export\n",
    "@runtime_checkable\n",
    "class PluginRegistryProtocol(Protocol):\n",
    "    \"\"\"Protocol that plugin registries should implement.\n",
    "    \n",
    "    This allows the settings library to work with any plugin system\n",
    "    that implements these methods.\n",
    "    \"\"\"\n",
    "    \n",
    "    def get_plugin(self, unique_id: str) -> Optional[PluginMetadata]:\n",
    "        \"\"\"Get plugin metadata by unique ID.\"\"\"\n",
    "        ...\n",
    "    \n",
    "    def get_plugins_by_category(self, category: str) -> list[PluginMetadata]:\n",
    "        \"\"\"Get all plugins in a category.\"\"\"\n",
    "        ...\n",
    "    \n",
    "    def get_categories_with_plugins(self) -> list[str]:\n",
    "        \"\"\"Get all categories that have registered plugins.\"\"\"\n",
    "        ...\n",
    "    \n",
    "    def load_plugin_config(self, unique_id: str) -> Dict[str, Any]:\n",
    "        \"\"\"Load saved configuration for a plugin.\"\"\"\n",
    "        ...\n",
    "    \n",
    "    def save_plugin_config(self, unique_id: str, config: Dict[str, Any]) -> bool:\n",
    "        \"\"\"Save configuration for a plugin.\"\"\"\n",
    "        ..."
   ]
  },
  {
   "cell_type": "code",
   "execution_count": null,
   "id": "zbi3dte1wva",
   "metadata": {},
   "outputs": [
    {
     "name": "stdout",
     "output_type": "stream",
     "text": [
      "Implements protocol: True\n",
      "Categories: ['data_processing']\n",
      "Plugins in category: ['plugin_a', 'plugin_b']\n",
      "\n",
      "Plugin metadata:\n",
      "  Name: plugin_a\n",
      "  Category: data_processing\n",
      "  Title: Plugin_A Configuration\n",
      "  Unique ID: data_processing_plugin_a\n",
      "\n",
      "Saved and loaded config: {'enabled': False}\n"
     ]
    }
   ],
   "source": [
    "# Example: Using UnifiedPluginRegistry from cjm-fasthtml-plugins\n",
    "from cjm_fasthtml_plugins.core.registry import UnifiedPluginRegistry\n",
    "\n",
    "# Mock plugin manager for demonstration\n",
    "from dataclasses import dataclass as dc\n",
    "\n",
    "@dc\n",
    "class MockPluginData:\n",
    "    name: str\n",
    "    version: str\n",
    "\n",
    "class MockPluginManager:\n",
    "    def discover_plugins(self):\n",
    "        return [\n",
    "            MockPluginData(\"plugin_a\", \"1.0.0\"),\n",
    "            MockPluginData(\"plugin_b\", \"1.0.0\")\n",
    "        ]\n",
    "    def get_plugin_config_schema(self, name: str):\n",
    "        return {\n",
    "            \"type\": \"object\",\n",
    "            \"title\": f\"{name.title()} Configuration\",\n",
    "            \"properties\": {\n",
    "                \"enabled\": {\"type\": \"boolean\", \"default\": True}\n",
    "            }\n",
    "        }\n",
    "\n",
    "with tempfile.TemporaryDirectory() as tmpdir:\n",
    "    # Create unified registry\n",
    "    registry = UnifiedPluginRegistry(config_dir=Path(tmpdir))\n",
    "    \n",
    "    # Register a plugin manager for a category\n",
    "    registry.register_plugin_manager(\n",
    "        category=\"data_processing\",\n",
    "        manager=MockPluginManager(),\n",
    "        display_name=\"Data Processing\"\n",
    "    )\n",
    "    \n",
    "    # The registry implements PluginRegistryProtocol\n",
    "    print(f\"Implements protocol: {isinstance(registry, PluginRegistryProtocol)}\")\n",
    "    print(f\"Categories: {registry.get_categories_with_plugins()}\")\n",
    "    print(f\"Plugins in category: {[p.name for p in registry.get_plugins_by_category('data_processing')]}\")\n",
    "    \n",
    "    # Get a specific plugin\n",
    "    plugin = registry.get_plugin(\"data_processing_plugin_a\")\n",
    "    print(f\"\\nPlugin metadata:\")\n",
    "    print(f\"  Name: {plugin.name}\")\n",
    "    print(f\"  Category: {plugin.category}\")\n",
    "    print(f\"  Title: {plugin.title}\")\n",
    "    print(f\"  Unique ID: {plugin.get_unique_id()}\")\n",
    "    \n",
    "    # Save and load config\n",
    "    registry.save_plugin_config(\"data_processing_plugin_a\", {\"enabled\": False})\n",
    "    loaded = registry.load_plugin_config(\"data_processing_plugin_a\")\n",
    "    print(f\"\\nSaved and loaded config: {loaded}\")"
   ]
  },
  {
   "cell_type": "code",
   "execution_count": null,
   "id": "24e4d0d3",
   "metadata": {},
   "outputs": [],
   "source": []
  },
  {
   "cell_type": "code",
   "execution_count": null,
   "id": "f88b5d97",
   "metadata": {},
   "outputs": [],
   "source": [
    "#| hide\n",
    "import nbdev; nbdev.nbdev_export()"
   ]
  }
 ],
 "metadata": {
  "kernelspec": {
   "display_name": "python3",
   "language": "python",
   "name": "python3"
  }
 },
 "nbformat": 4,
 "nbformat_minor": 5
}
