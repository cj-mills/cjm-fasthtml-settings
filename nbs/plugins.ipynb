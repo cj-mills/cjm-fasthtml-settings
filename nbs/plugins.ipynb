{
 "cells": [
  {
   "cell_type": "markdown",
   "id": "3f8e9d2a",
   "metadata": {},
   "source": [
    "# Plugins\n",
    "\n",
    "> Optional plugin integration for extensible settings systems"
   ]
  },
  {
   "cell_type": "code",
   "execution_count": null,
   "id": "aa19283b",
   "metadata": {},
   "outputs": [],
   "source": [
    "#| default_exp plugins"
   ]
  },
  {
   "cell_type": "code",
   "execution_count": null,
   "id": "7c2384bb",
   "metadata": {},
   "outputs": [],
   "source": [
    "#| hide\n",
    "from nbdev.showdoc import *"
   ]
  },
  {
   "cell_type": "code",
   "execution_count": null,
   "id": "d4e5c8a9",
   "metadata": {},
   "outputs": [],
   "source": [
    "#| export\n",
    "from dataclasses import dataclass\n",
    "from pathlib import Path\n",
    "from typing import Dict, Any, Optional, Protocol, runtime_checkable"
   ]
  },
  {
   "cell_type": "markdown",
   "id": "b0ca8e2c",
   "metadata": {},
   "source": [
    "## Plugin Metadata"
   ]
  },
  {
   "cell_type": "code",
   "execution_count": null,
   "id": "e5c9a7d8",
   "metadata": {},
   "outputs": [],
   "source": [
    "#| export\n",
    "# Note: No predefined PluginCategory enum - applications define their own categories as strings\n",
    "# Examples: \"transcription\", \"export\", \"analysis\", \"integration\", etc."
   ]
  },
  {
   "cell_type": "code",
   "execution_count": null,
   "id": "81a2c8f7",
   "metadata": {},
   "outputs": [],
   "source": [
    "#| export\n",
    "@dataclass\n",
    "class PluginMetadata:\n",
    "    \"\"\"Metadata describing a plugin.\n",
    "    \n",
    "    This dataclass holds information about a plugin that can be displayed\n",
    "    in the settings UI without loading the actual plugin instance.\n",
    "    \n",
    "    The category is a simple string - applications choose their own category names\n",
    "    based on their needs (e.g., \"transcription\", \"export\", \"data_processing\", etc.).\n",
    "    \n",
    "    Example:\n",
    "        ```python\n",
    "        # Application defines its own categories\n",
    "        PluginMetadata(\n",
    "            name=\"whisper_transcriber\",\n",
    "            category=\"transcription\",  # App-specific category\n",
    "            title=\"Whisper Transcriber\",\n",
    "            config_schema={...}\n",
    "        )\n",
    "        ```\n",
    "    \n",
    "    Attributes:\n",
    "        name: Internal plugin identifier\n",
    "        category: Plugin category string (application-defined)\n",
    "        title: Display title for the plugin\n",
    "        config_schema: JSON Schema for plugin configuration\n",
    "        description: Optional plugin description\n",
    "        version: Optional plugin version\n",
    "        is_configured: Whether the plugin has saved configuration\n",
    "    \"\"\"\n",
    "    name: str\n",
    "    category: str  # Application-defined category string\n",
    "    title: str\n",
    "    config_schema: Dict[str, Any]\n",
    "    description: Optional[str] = None\n",
    "    version: Optional[str] = None\n",
    "    is_configured: bool = False\n",
    "    \n",
    "    def get_unique_id(self) -> str:\n",
    "        \"\"\"Generate unique ID for this plugin.\"\"\"\n",
    "        return self.name"
   ]
  },
  {
   "cell_type": "markdown",
   "id": "02bdcbf6",
   "metadata": {},
   "source": [
    "## Plugin Registry Protocol"
   ]
  },
  {
   "cell_type": "code",
   "execution_count": null,
   "id": "b5f8e2d1",
   "metadata": {},
   "outputs": [],
   "source": [
    "#| export\n",
    "@runtime_checkable\n",
    "class PluginRegistryProtocol(Protocol):\n",
    "    \"\"\"Protocol that plugin registries should implement.\n",
    "    \n",
    "    This allows the settings library to work with any plugin system\n",
    "    that implements these methods.\n",
    "    \"\"\"\n",
    "    \n",
    "    def get_plugin(self, unique_id: str) -> Optional[PluginMetadata]:\n",
    "        \"\"\"Get plugin metadata by unique ID.\"\"\"\n",
    "        ...\n",
    "    \n",
    "    def get_plugins_by_category(self, category: str) -> list[PluginMetadata]:\n",
    "        \"\"\"Get all plugins in a category.\"\"\"\n",
    "        ...\n",
    "    \n",
    "    def get_categories_with_plugins(self) -> list[str]:\n",
    "        \"\"\"Get all categories that have registered plugins.\"\"\"\n",
    "        ...\n",
    "    \n",
    "    def load_plugin_config(self, unique_id: str) -> Dict[str, Any]:\n",
    "        \"\"\"Load saved configuration for a plugin.\"\"\"\n",
    "        ...\n",
    "    \n",
    "    def save_plugin_config(self, unique_id: str, config: Dict[str, Any]) -> bool:\n",
    "        \"\"\"Save configuration for a plugin.\"\"\"\n",
    "        ..."
   ]
  },
  {
   "cell_type": "markdown",
   "id": "c8e4f5f5",
   "metadata": {},
   "source": [
    "## Simple Plugin Registry Implementation"
   ]
  },
  {
   "cell_type": "code",
   "execution_count": null,
   "id": "d8f5a2b6",
   "metadata": {},
   "outputs": [],
   "source": [
    "#| export\n",
    "class SimplePluginRegistry:\n",
    "    \"\"\"Simple implementation of PluginRegistryProtocol.\n",
    "    \n",
    "    This provides a basic plugin registry that can be used with the settings\n",
    "    library. Applications with more complex needs can implement their own\n",
    "    registry that follows the PluginRegistryProtocol.\n",
    "    \n",
    "    Categories are arbitrary strings defined by the application.\n",
    "    \"\"\"\n",
    "    \n",
    "    def __init__(self, config_dir: Optional[Path] = None):\n",
    "        self._plugins: Dict[str, PluginMetadata] = {}\n",
    "        self._config_dir = config_dir or Path(\"configs\")\n",
    "    \n",
    "    def register_plugin(self, metadata: PluginMetadata):\n",
    "        \"\"\"Register a plugin.\"\"\"\n",
    "        # Check if plugin is configured\n",
    "        config_file = self._config_dir / f\"{metadata.get_unique_id()}.json\"\n",
    "        metadata.is_configured = config_file.exists()\n",
    "        \n",
    "        self._plugins[metadata.get_unique_id()] = metadata\n",
    "    \n",
    "    def get_plugin(self, unique_id: str) -> Optional[PluginMetadata]:\n",
    "        \"\"\"Get plugin metadata by unique ID.\"\"\"\n",
    "        return self._plugins.get(unique_id)\n",
    "    \n",
    "    def get_plugins_by_category(self, category: str) -> list:\n",
    "        \"\"\"Get all plugins in a category.\"\"\"\n",
    "        return [p for p in self._plugins.values() if p.category == category]\n",
    "    \n",
    "    def get_categories_with_plugins(self) -> list:\n",
    "        \"\"\"Get all categories that have registered plugins.\"\"\"\n",
    "        categories = set(p.category for p in self._plugins.values())\n",
    "        return sorted(categories)\n",
    "    \n",
    "    def load_plugin_config(self, unique_id: str) -> Dict[str, Any]:\n",
    "        \"\"\"Load saved configuration for a plugin.\"\"\"\n",
    "        import json\n",
    "        config_file = self._config_dir / f\"{unique_id}.json\"\n",
    "        if config_file.exists():\n",
    "            with open(config_file, 'r') as f:\n",
    "                return json.load(f)\n",
    "        return {}\n",
    "    \n",
    "    def save_plugin_config(self, unique_id: str, config: Dict[str, Any]) -> bool:\n",
    "        \"\"\"Save configuration for a plugin.\"\"\"\n",
    "        import json\n",
    "        try:\n",
    "            self._config_dir.mkdir(exist_ok=True, parents=True)\n",
    "            config_file = self._config_dir / f\"{unique_id}.json\"\n",
    "            with open(config_file, 'w') as f:\n",
    "                json.dump(config, f, indent=2)\n",
    "            \n",
    "            # Update is_configured status\n",
    "            if unique_id in self._plugins:\n",
    "                self._plugins[unique_id].is_configured = True\n",
    "            \n",
    "            return True\n",
    "        except Exception as e:\n",
    "            print(f\"Error saving plugin config: {e}\")\n",
    "            return False"
   ]
  },
  {
   "cell_type": "code",
   "execution_count": null,
   "id": "f5c7e5b5",
   "metadata": {},
   "outputs": [
    {
     "name": "stdout",
     "output_type": "stream",
     "text": [
      "Registered plugins: ['csv_exporter', 'json_exporter', 'data_cleaner']\n",
      "Categories: ['export', 'preprocessing']\n",
      "Export plugins: ['csv_exporter', 'json_exporter']\n",
      "Preprocessing plugins: ['data_cleaner']\n",
      "\n",
      "Saved and loaded config: {'delimiter': ';'}\n",
      "Is configured: True\n"
     ]
    }
   ],
   "source": [
    "# Example: Using SimplePluginRegistry with custom categories\n",
    "import tempfile\n",
    "\n",
    "with tempfile.TemporaryDirectory() as tmpdir:\n",
    "    registry = SimplePluginRegistry(config_dir=Path(tmpdir))\n",
    "    \n",
    "    # Register plugins with application-specific categories\n",
    "    registry.register_plugin(PluginMetadata(\n",
    "        name=\"csv_exporter\",\n",
    "        category=\"export\",  # Custom category\n",
    "        title=\"CSV Exporter\",\n",
    "        config_schema={\n",
    "            \"type\": \"object\",\n",
    "            \"properties\": {\n",
    "                \"delimiter\": {\"type\": \"string\", \"default\": \",\"}\n",
    "            }\n",
    "        },\n",
    "        description=\"Export data to CSV format\"\n",
    "    ))\n",
    "    \n",
    "    registry.register_plugin(PluginMetadata(\n",
    "        name=\"json_exporter\",\n",
    "        category=\"export\",  # Same custom category\n",
    "        title=\"JSON Exporter\",\n",
    "        config_schema={\n",
    "            \"type\": \"object\",\n",
    "            \"properties\": {\n",
    "                \"indent\": {\"type\": \"integer\", \"default\": 2}\n",
    "            }\n",
    "        }\n",
    "    ))\n",
    "    \n",
    "    registry.register_plugin(PluginMetadata(\n",
    "        name=\"data_cleaner\",\n",
    "        category=\"preprocessing\",  # Different custom category\n",
    "        title=\"Data Cleaner\",\n",
    "        config_schema={\n",
    "            \"type\": \"object\",\n",
    "            \"properties\": {\n",
    "                \"remove_nulls\": {\"type\": \"boolean\", \"default\": True}\n",
    "            }\n",
    "        }\n",
    "    ))\n",
    "    \n",
    "    print(f\"Registered plugins: {list(registry._plugins.keys())}\")\n",
    "    print(f\"Categories: {registry.get_categories_with_plugins()}\")\n",
    "    print(f\"Export plugins: {[p.name for p in registry.get_plugins_by_category('export')]}\")\n",
    "    print(f\"Preprocessing plugins: {[p.name for p in registry.get_plugins_by_category('preprocessing')]}\")\n",
    "    \n",
    "    # Save and load config\n",
    "    registry.save_plugin_config(\"csv_exporter\", {\"delimiter\": \";\"})\n",
    "    loaded = registry.load_plugin_config(\"csv_exporter\")\n",
    "    print(f\"\\nSaved and loaded config: {loaded}\")\n",
    "    print(f\"Is configured: {registry.get_plugin('csv_exporter').is_configured}\")"
   ]
  },
  {
   "cell_type": "code",
   "execution_count": null,
   "id": "24e4d0d3",
   "metadata": {},
   "outputs": [],
   "source": []
  },
  {
   "cell_type": "code",
   "execution_count": null,
   "id": "f88b5d97",
   "metadata": {},
   "outputs": [],
   "source": [
    "#| hide\n",
    "import nbdev; nbdev.nbdev_export()"
   ]
  }
 ],
 "metadata": {
  "kernelspec": {
   "display_name": "python3",
   "language": "python",
   "name": "python3"
  }
 },
 "nbformat": 4,
 "nbformat_minor": 5
}
