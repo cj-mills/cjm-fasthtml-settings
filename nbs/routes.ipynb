{
 "cells": [
  {
   "cell_type": "markdown",
   "id": "9aad67dc",
   "metadata": {},
   "source": [
    "# Routes\n",
    "\n",
    "> Route helpers and utilities for settings endpoints"
   ]
  },
  {
   "cell_type": "code",
   "execution_count": null,
   "id": "215efb42",
   "metadata": {},
   "outputs": [],
   "source": [
    "#| default_exp routes"
   ]
  },
  {
   "cell_type": "code",
   "execution_count": null,
   "id": "41fc52d5",
   "metadata": {},
   "outputs": [],
   "source": [
    "#| hide\n",
    "from nbdev.showdoc import *"
   ]
  },
  {
   "cell_type": "code",
   "execution_count": null,
   "id": "655b0b7d",
   "metadata": {},
   "outputs": [],
   "source": [
    "#| export\n",
    "from typing import Dict, Any, Optional\n",
    "from pathlib import Path\n",
    "from fasthtml.common import Div\n",
    "\n",
    "from cjm_fasthtml_settings.components.forms import create_settings_form_container\n",
    "from cjm_fasthtml_settings.components.sidebar import create_oob_sidebar_menu\n",
    "from cjm_fasthtml_settings.components.alerts import create_success_alert, create_error_alert\n",
    "from cjm_fasthtml_settings.core.html_ids import HtmlIds\n",
    "from cjm_fasthtml_tailwind.utilities.flexbox_and_grid import flex\n",
    "from cjm_fasthtml_tailwind.utilities.sizing import min_h\n",
    "from cjm_fasthtml_tailwind.core.base import combine_classes"
   ]
  },
  {
   "cell_type": "code",
   "execution_count": null,
   "id": "6949612f",
   "metadata": {},
   "outputs": [],
   "source": []
  },
  {
   "cell_type": "markdown",
   "id": "08842bba",
   "metadata": {},
   "source": [
    "## Settings Response Helper"
   ]
  },
  {
   "cell_type": "code",
   "execution_count": null,
   "id": "3a37e916",
   "metadata": {},
   "outputs": [],
   "source": [
    "#| export\n",
    "def create_settings_response(\n",
    "    schema: Dict[str, Any],  # Settings schema\n",
    "    values: Dict[str, Any],  # Configuration values\n",
    "    save_url: str,  # URL for save action\n",
    "    reset_url: str,  # URL for reset action\n",
    "    alert_msg,  # Alert message element\n",
    "    schemas: Dict[str, Dict[str, Any]],  # All schemas for sidebar\n",
    "    sidebar_id: str,  # ID for sidebar menu active state\n",
    "    config_dir: Optional[Path] = None,  # Config directory\n",
    "    index_route_fn = None,  # Function to generate sidebar route URLs\n",
    "    menu_section_title: str = \"Settings\"  # Sidebar section title\n",
    ") -> Div:  # Div containing form and sidebar with OOB swap\n",
    "    \"\"\"Create standardized settings form response with sidebar.\n",
    "\n",
    "    This consolidates the common pattern of creating a settings form\n",
    "    with an OOB-swapped sidebar menu.\n",
    "\n",
    "    Returns:\n",
    "        Div containing the form and updated sidebar\n",
    "    \"\"\"\n",
    "    return Div(\n",
    "        create_settings_form_container(\n",
    "            schema=schema,\n",
    "            values=values,\n",
    "            post_url=save_url,\n",
    "            reset_url=reset_url,\n",
    "            alert_message=alert_msg\n",
    "        ),\n",
    "        create_oob_sidebar_menu(\n",
    "            schemas=schemas,\n",
    "            active_schema=sidebar_id,\n",
    "            config_dir=config_dir,\n",
    "            index_route_fn=index_route_fn,\n",
    "            menu_section_title=menu_section_title\n",
    "        )\n",
    "    )"
   ]
  },
  {
   "cell_type": "code",
   "execution_count": null,
   "id": "cbc0da3e",
   "metadata": {},
   "outputs": [],
   "source": []
  },
  {
   "cell_type": "markdown",
   "id": "c3a8e224",
   "metadata": {},
   "source": [
    "## Load Form Content"
   ]
  },
  {
   "cell_type": "code",
   "execution_count": null,
   "id": "18133fd7",
   "metadata": {},
   "outputs": [],
   "source": [
    "#| export\n",
    "def load_form_content(\n",
    "    schema: Dict[str, Any],  # Schema to load form for\n",
    "    config_dir: Optional[Path] = None,  # Config directory\n",
    "    save_route_fn = None,  # Function to generate save URL\n",
    "    reset_route_fn = None  # Function to generate reset URL\n",
    ") -> Div:  # Settings content div\n",
    "    \"\"\"Load the settings form content asynchronously.\n",
    "    \n",
    "    This is used as the endpoint for async form loading via HTMX.\n",
    "    \"\"\"\n",
    "    from cjm_fasthtml_settings.components.dashboard import render_schema_settings_content\n",
    "    \n",
    "    return Div(\n",
    "        render_schema_settings_content(\n",
    "            schema=schema,\n",
    "            config_dir=config_dir,\n",
    "            save_route_fn=save_route_fn,\n",
    "            reset_route_fn=reset_route_fn\n",
    "        ),\n",
    "        id=HtmlIds.SETTINGS_CONTENT,\n",
    "        cls=combine_classes(flex(1), min_h(0))\n",
    "    )"
   ]
  },
  {
   "cell_type": "code",
   "execution_count": null,
   "id": "eb2c065c",
   "metadata": {},
   "outputs": [],
   "source": []
  },
  {
   "cell_type": "markdown",
   "id": "01481887",
   "metadata": {},
   "source": [
    "## Save Handler"
   ]
  },
  {
   "cell_type": "code",
   "execution_count": null,
   "id": "cdb6874b",
   "metadata": {},
   "outputs": [],
   "source": [
    "#| export\n",
    "async def handle_save(\n",
    "    request,  # FastHTML request object\n",
    "    schema: Dict[str, Any],  # Schema being saved\n",
    "    schemas: Dict[str, Dict[str, Any]],  # All schemas for sidebar\n",
    "    schema_id: str,  # ID of the schema\n",
    "    config_dir: Optional[Path] = None,  # Config directory\n",
    "    save_route_fn = None,  # Function to generate save URL\n",
    "    reset_route_fn = None,  # Function to generate reset URL\n",
    "    index_route_fn = None,  # Function to generate sidebar URLs\n",
    "    menu_section_title: str = \"Settings\"  # Sidebar title\n",
    "):\n",
    "    \"\"\"Handle save request for settings.\n",
    "    \n",
    "    Converts form data, saves configuration, and returns updated UI.\n",
    "    \"\"\"\n",
    "    from cjm_fasthtml_settings.core.utils import convert_form_data_to_config, save_config\n",
    "    \n",
    "    form_data = await request.form()\n",
    "    config = convert_form_data_to_config(form_data, schema)\n",
    "\n",
    "    # Generate URLs\n",
    "    if save_route_fn:\n",
    "        save_url = save_route_fn(schema_id)\n",
    "    else:\n",
    "        save_url = f\"/settings/save/{schema_id}\"\n",
    "        \n",
    "    if reset_route_fn:\n",
    "        reset_url = reset_route_fn(schema_id)\n",
    "    else:\n",
    "        reset_url = f\"/settings/reset/{schema_id}\"\n",
    "\n",
    "    # Save configuration\n",
    "    if save_config(schema_id, config, config_dir):\n",
    "        return create_settings_response(\n",
    "            schema=schema,\n",
    "            values=config,\n",
    "            save_url=save_url,\n",
    "            reset_url=reset_url,\n",
    "            alert_msg=create_success_alert(f\"Configuration saved for {schema.get('title')}\"),\n",
    "            schemas=schemas,\n",
    "            sidebar_id=schema_id,\n",
    "            config_dir=config_dir,\n",
    "            index_route_fn=index_route_fn,\n",
    "            menu_section_title=menu_section_title\n",
    "        )\n",
    "    else:\n",
    "        return create_error_alert(f\"Failed to save {schema.get('title')} configuration\")"
   ]
  },
  {
   "cell_type": "code",
   "execution_count": null,
   "id": "95205a94",
   "metadata": {},
   "outputs": [],
   "source": []
  },
  {
   "cell_type": "markdown",
   "id": "2af8949f",
   "metadata": {},
   "source": [
    "## Reset Handler"
   ]
  },
  {
   "cell_type": "code",
   "execution_count": null,
   "id": "0ab8512d",
   "metadata": {},
   "outputs": [],
   "source": [
    "#| export\n",
    "def handle_reset(\n",
    "    schema: Dict[str, Any],  # Schema being reset\n",
    "    schemas: Dict[str, Dict[str, Any]],  # All schemas for sidebar\n",
    "    schema_id: str,  # ID of the schema\n",
    "    config_dir: Optional[Path] = None,  # Config directory\n",
    "    save_route_fn = None,  # Function to generate save URL\n",
    "    reset_route_fn = None,  # Function to generate reset URL\n",
    "    index_route_fn = None,  # Function to generate sidebar URLs\n",
    "    menu_section_title: str = \"Settings\"  # Sidebar title\n",
    "):\n",
    "    \"\"\"Handle reset request for settings.\n",
    "    \n",
    "    Resets configuration to schema defaults and returns updated UI.\n",
    "    \"\"\"\n",
    "    from cjm_fasthtml_settings.core.utils import get_default_values_from_schema\n",
    "    \n",
    "    # Use only default values\n",
    "    values = get_default_values_from_schema(schema)\n",
    "\n",
    "    # Generate URLs\n",
    "    if save_route_fn:\n",
    "        save_url = save_route_fn(schema_id)\n",
    "    else:\n",
    "        save_url = f\"/settings/save/{schema_id}\"\n",
    "        \n",
    "    if reset_route_fn:\n",
    "        reset_url = reset_route_fn(schema_id)\n",
    "    else:\n",
    "        reset_url = f\"/settings/reset/{schema_id}\"\n",
    "\n",
    "    return create_settings_response(\n",
    "        schema=schema,\n",
    "        values=values,\n",
    "        save_url=save_url,\n",
    "        reset_url=reset_url,\n",
    "        alert_msg=create_success_alert(\"Configuration reset to defaults\"),\n",
    "        schemas=schemas,\n",
    "        sidebar_id=schema_id,\n",
    "        config_dir=config_dir,\n",
    "        index_route_fn=index_route_fn,\n",
    "        menu_section_title=menu_section_title\n",
    "    )"
   ]
  },
  {
   "cell_type": "code",
   "execution_count": null,
   "id": "0d9313f5",
   "metadata": {},
   "outputs": [],
   "source": []
  },
  {
   "cell_type": "code",
   "execution_count": null,
   "id": "7245f6dd",
   "metadata": {},
   "outputs": [],
   "source": []
  },
  {
   "cell_type": "code",
   "execution_count": null,
   "id": "73720ac4",
   "metadata": {},
   "outputs": [],
   "source": [
    "#| hide\n",
    "import nbdev; nbdev.nbdev_export()"
   ]
  }
 ],
 "metadata": {
  "kernelspec": {
   "display_name": "python3",
   "language": "python",
   "name": "python3"
  }
 },
 "nbformat": 4,
 "nbformat_minor": 5
}
