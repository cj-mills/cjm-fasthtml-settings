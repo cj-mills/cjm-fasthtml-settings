{
 "cells": [
  {
   "cell_type": "markdown",
   "id": "3f8e9d2a",
   "metadata": {},
   "source": [
    "# Routes\n",
    "\n",
    "> FastHTML route handlers for settings interface"
   ]
  },
  {
   "cell_type": "code",
   "execution_count": null,
   "id": "aa19283b",
   "metadata": {},
   "outputs": [],
   "source": [
    "#| default_exp routes"
   ]
  },
  {
   "cell_type": "code",
   "execution_count": null,
   "id": "7c2384bb",
   "metadata": {},
   "outputs": [],
   "source": [
    "#| hide\n",
    "from nbdev.showdoc import *"
   ]
  },
  {
   "cell_type": "code",
   "execution_count": null,
   "id": "d4e5c8a9",
   "metadata": {},
   "outputs": [],
   "source": [
    "#| export\n",
    "import json\n",
    "from pathlib import Path\n",
    "from typing import Dict, Any, Optional, Callable\n",
    "from fasthtml.common import *\n",
    "from fasthtml.common import FT\n",
    "\n",
    "from cjm_fasthtml_app_core.components.alerts import create_error_alert, create_success_alert\n",
    "from cjm_fasthtml_settings.core.html_ids import SettingsHtmlIds as HtmlIds\n",
    "from cjm_fasthtml_settings.core.config import DEFAULT_CONFIG_DIR\n",
    "from cjm_fasthtml_settings.core.schemas import registry\n",
    "from cjm_fasthtml_settings.core.utils import (\n",
    "    save_config,\n",
    "    get_default_values_from_schema,\n",
    "    convert_form_data_to_config,\n",
    ")\n",
    "from cjm_fasthtml_settings.components.forms import create_settings_form_container"
   ]
  },
  {
   "cell_type": "code",
   "execution_count": null,
   "id": "4iqupas9er",
   "metadata": {},
   "outputs": [],
   "source": [
    "#| export\n",
    "# Optional: Import error handling library if available\n",
    "try:\n",
    "    from cjm_error_handling.core.base import ErrorContext, ErrorSeverity\n",
    "    from cjm_error_handling.core.errors import ConfigurationError, ValidationError\n",
    "    _has_error_handling = True\n",
    "except ImportError:\n",
    "    _has_error_handling = False"
   ]
  },
  {
   "cell_type": "code",
   "execution_count": null,
   "id": "8c4b5e8c",
   "metadata": {},
   "outputs": [],
   "source": []
  },
  {
   "cell_type": "markdown",
   "id": "b0ca8e2c",
   "metadata": {},
   "source": [
    "## Configuration\n",
    "\n",
    "Module-level configuration that can be customized by users before importing the router."
   ]
  },
  {
   "cell_type": "code",
   "execution_count": null,
   "id": "e5c9a7d8",
   "metadata": {},
   "outputs": [],
   "source": [
    "#| export\n",
    "# Configuration settings that users can override\n",
    "class RoutesConfig:\n",
    "    \"\"\"Configuration for settings routes behavior.\"\"\"\n",
    "    config_dir: Path = DEFAULT_CONFIG_DIR\n",
    "    default_schema: str = \"general\"\n",
    "    menu_section_title: str = \"Settings\"\n",
    "    wrap_with_layout: Optional[Callable] = None  # Optional function to wrap full page content\n",
    "    plugin_registry: Optional[Any] = None  # Optional plugin registry (must implement PluginRegistryProtocol)\n",
    "\n",
    "# Module-level config instance\n",
    "config = RoutesConfig()"
   ]
  },
  {
   "cell_type": "markdown",
   "id": "fsizv3cme0t",
   "metadata": {},
   "source": [
    "### Configuring Settings\n",
    "\n",
    "The `configure_settings()` function is a convenience helper that sets all configuration options at once, providing a cleaner alternative to setting `config` attributes individually.\n",
    "\n",
    "This is the recommended way to configure the settings system before adding the router to your app."
   ]
  },
  {
   "cell_type": "code",
   "execution_count": null,
   "id": "njpw0qszwj",
   "metadata": {},
   "outputs": [],
   "source": [
    "#| export\n",
    "def configure_settings(\n",
    "    config_dir: Path = None,  # Directory for storing configuration files\n",
    "    wrap_with_layout: Callable = None,  # Function to wrap full page content with app layout\n",
    "    plugin_registry = None,  # Optional plugin registry (must implement PluginRegistryProtocol)\n",
    "    default_schema: str = \"general\",  # Default schema to display\n",
    "    menu_section_title: str = \"Settings\"  # Title for the settings menu section\n",
    ") -> RoutesConfig:  # Configured RoutesConfig instance\n",
    "    \"\"\"Configure the settings system with a single function call.\"\"\"\n",
    "    if config_dir is not None:\n",
    "        config.config_dir = config_dir\n",
    "    if wrap_with_layout is not None:\n",
    "        config.wrap_with_layout = wrap_with_layout\n",
    "    if plugin_registry is not None:\n",
    "        config.plugin_registry = plugin_registry\n",
    "    if default_schema is not None:\n",
    "        config.default_schema = default_schema\n",
    "    if menu_section_title is not None:\n",
    "        config.menu_section_title = menu_section_title\n",
    "    \n",
    "    return config"
   ]
  },
  {
   "cell_type": "code",
   "execution_count": null,
   "id": "81a2c8f7",
   "metadata": {},
   "outputs": [],
   "source": []
  },
  {
   "cell_type": "markdown",
   "id": "lcx677tkyt",
   "metadata": {},
   "source": [
    "## Error Handling Integration\n",
    "\n",
    "When the `cjm-error-handling` library is installed, settings routes use structured errors for better error tracking:\n",
    "\n",
    "- **`ConfigurationError`**: Raised for config load/save failures, missing config files, or parse errors\n",
    "- **`ValidationError`**: Raised for invalid configuration data or schema validation failures\n",
    "\n",
    "These structured errors provide:\n",
    "- User-friendly messages for alerts\n",
    "- Debug information for logging\n",
    "- Rich context (schema_id, operation, config_path, etc.)\n",
    "- Error serialization for API responses\n",
    "\n",
    "**Without the library**: Falls back to returning error alert components directly\n",
    "\n",
    "**Usage**:\n",
    "```python\n",
    "try:\n",
    "    if save_config(schema_id, config_data, config_dir):\n",
    "        # Success\n",
    "        pass\n",
    "except ConfigurationError as e:\n",
    "    # Handle structured error\n",
    "    return create_error_alert(e.get_user_message())\n",
    "```"
   ]
  },
  {
   "cell_type": "markdown",
   "id": "02bdcbf6",
   "metadata": {},
   "source": [
    "## Helper Functions"
   ]
  },
  {
   "cell_type": "code",
   "execution_count": null,
   "id": "b5f8e2d1",
   "metadata": {},
   "outputs": [],
   "source": [
    "#| export\n",
    "def _resolve_schema(\n",
    "    id: str  # Schema ID\n",
    ") -> tuple:  # (schema, error_message)\n",
    "    \"\"\"Resolve schema from ID using the registry.\"\"\"\n",
    "    return registry.resolve_schema(id)"
   ]
  },
  {
   "cell_type": "code",
   "execution_count": null,
   "id": "e3a1d8b5",
   "metadata": {},
   "outputs": [],
   "source": []
  },
  {
   "cell_type": "markdown",
   "id": "c8e4f5f5",
   "metadata": {},
   "source": [
    "## API Router and Routes\n",
    "\n",
    "The module-level `settings_ar` router can be directly imported and attached to your FastHTML app."
   ]
  },
  {
   "cell_type": "code",
   "execution_count": null,
   "id": "d8f5a2b6",
   "metadata": {},
   "outputs": [],
   "source": [
    "#| export\n",
    "# Module-level API router\n",
    "settings_ar = APIRouter(prefix=\"/settings\")"
   ]
  },
  {
   "cell_type": "code",
   "execution_count": null,
   "id": "f5c7e5b5",
   "metadata": {},
   "outputs": [],
   "source": [
    "#| export\n",
    "@settings_ar\n",
    "def index(\n",
    "    request,  # FastHTML request object\n",
    "    id: str = None  # Schema ID to display (defaults to config.default_schema)\n",
    ") -> FT:  # Settings page content\n",
    "    \"\"\"Main settings page.\"\"\"\n",
    "    from cjm_fasthtml_settings.components.master_detail_adapter import create_settings_master_detail\n",
    "    from cjm_fasthtml_app_core.core.htmx import is_htmx_request\n",
    "    from cjm_fasthtml_interactions.core.html_ids import InteractionHtmlIds\n",
    "    \n",
    "    if id is None:\n",
    "        id = config.default_schema\n",
    "        \n",
    "    schema, _ = _resolve_schema(id)\n",
    "    \n",
    "    # Create the master-detail instance\n",
    "    settings_md = create_settings_master_detail(\n",
    "        schemas=registry.get_all(),\n",
    "        config_dir=config.config_dir,\n",
    "        save_route_fn=lambda schema_id: save.to(id=schema_id),\n",
    "        reset_route_fn=lambda schema_id: reset.to(id=schema_id),\n",
    "        default_schema=config.default_schema,\n",
    "        menu_section_title=config.menu_section_title,\n",
    "        plugin_registry=config.plugin_registry,\n",
    "        plugin_save_route_fn=lambda plugin_id: plugin_save.to(id=plugin_id),\n",
    "        plugin_reset_route_fn=lambda plugin_id: plugin_reset.to(id=plugin_id)\n",
    "    )\n",
    "    \n",
    "    # For HTMX requests targeting the detail area specifically, return just the detail content\n",
    "    # This happens when clicking between settings items within the interface\n",
    "    hx_target = request.headers.get('HX-Target')\n",
    "    if is_htmx_request(request) and hx_target == InteractionHtmlIds.MASTER_DETAIL_DETAIL:\n",
    "        item = settings_md.get_item(id)\n",
    "        if item:\n",
    "            ctx = settings_md.create_context(request, request.session, item)\n",
    "            content = settings_md.render_detail(item, ctx)\n",
    "            \n",
    "            # Add OOB sidebar update\n",
    "            master_oob = settings_md.render_master_oob(\n",
    "                active_item_id=id,\n",
    "                item_route_func=lambda iid: index.to(id=iid)\n",
    "            )\n",
    "            \n",
    "            return Div(content, master_oob)\n",
    "    \n",
    "    # For full page requests or HTMX requests from outside (e.g., navbar),\n",
    "    # render the complete interface\n",
    "    full_interface = settings_md.render_full_interface(\n",
    "        active_item_id=id,\n",
    "        item_route_func=lambda iid: index.to(id=iid),\n",
    "        request=request,\n",
    "        sess=request.session\n",
    "    )\n",
    "    \n",
    "    # Wrap with layout if provided and not an HTMX request\n",
    "    if config.wrap_with_layout and not is_htmx_request(request):\n",
    "        return config.wrap_with_layout(full_interface)\n",
    "    return full_interface"
   ]
  },
  {
   "cell_type": "code",
   "execution_count": null,
   "id": "b8d4e2f9",
   "metadata": {},
   "outputs": [],
   "source": [
    "#| export\n",
    "@settings_ar\n",
    "async def save(\n",
    "    request,  # FastHTML request object\n",
    "    id: str  # Schema ID to save\n",
    ") -> FT:  # Response with form or error\n",
    "    \"\"\"Save configuration handler.\"\"\"\n",
    "    from cjm_fasthtml_interactions.core.html_ids import InteractionHtmlIds\n",
    "    \n",
    "    schema, error_msg = _resolve_schema(id)\n",
    "    if error_msg:\n",
    "        return create_error_alert(error_msg)\n",
    "    \n",
    "    form_data = await request.form()\n",
    "    config_data = convert_form_data_to_config(form_data, schema)\n",
    "    \n",
    "    # Save configuration\n",
    "    if save_config(id, config_data, config.config_dir):\n",
    "        alert_msg = create_success_alert(f\"Configuration saved for {schema.get('title')}\")\n",
    "        return create_settings_form_container(\n",
    "            schema=schema,\n",
    "            values=config_data,\n",
    "            post_url=save.to(id=id),\n",
    "            reset_url=reset.to(id=id),\n",
    "            alert_message=alert_msg,\n",
    "            target_id=InteractionHtmlIds.MASTER_DETAIL_DETAIL\n",
    "        )\n",
    "    else:\n",
    "        return create_error_alert(f\"Failed to save {schema.get('title')} configuration\")"
   ]
  },
  {
   "cell_type": "code",
   "execution_count": null,
   "id": "c9e5f3a8",
   "metadata": {},
   "outputs": [],
   "source": [
    "#| export\n",
    "@settings_ar\n",
    "def reset(\n",
    "    id: str  # Schema ID to reset\n",
    ") -> FT:  # Response with form or error\n",
    "    \"\"\"Reset configuration to defaults handler.\"\"\"\n",
    "    from cjm_fasthtml_interactions.core.html_ids import InteractionHtmlIds\n",
    "    \n",
    "    schema, error_msg = _resolve_schema(id)\n",
    "    if error_msg:\n",
    "        return create_error_alert(error_msg)\n",
    "    \n",
    "    # Use only default values\n",
    "    values = get_default_values_from_schema(schema)\n",
    "    alert_msg = create_success_alert(\"Configuration reset to defaults\")\n",
    "    \n",
    "    return create_settings_form_container(\n",
    "        schema=schema,\n",
    "        values=values,\n",
    "        post_url=save.to(id=id),\n",
    "        reset_url=reset.to(id=id),\n",
    "        alert_message=alert_msg,\n",
    "        target_id=InteractionHtmlIds.MASTER_DETAIL_DETAIL\n",
    "    )"
   ]
  },
  {
   "cell_type": "markdown",
   "id": "5i2fh6qc87",
   "metadata": {},
   "source": [
    "## Plugin Routes (Optional)\n",
    "\n",
    "These routes are only active if `config.plugin_registry` is set."
   ]
  },
  {
   "cell_type": "code",
   "execution_count": null,
   "id": "hvermn3fu9f",
   "metadata": {},
   "outputs": [],
   "source": [
    "#| export\n",
    "@settings_ar\n",
    "def plugin_reset(\n",
    "    id: str  # Plugin unique ID\n",
    ") -> FT:  # Response with form or error\n",
    "    \"\"\"Reset plugin configuration to defaults handler.\"\"\"\n",
    "    from cjm_fasthtml_interactions.core.html_ids import InteractionHtmlIds\n",
    "    \n",
    "    if not config.plugin_registry:\n",
    "        return create_error_alert(\"Plugin system not configured\")\n",
    "    \n",
    "    plugin_metadata = config.plugin_registry.get_plugin(id)\n",
    "    if not plugin_metadata:\n",
    "        return create_error_alert(\"Plugin not found\")\n",
    "    \n",
    "    schema = plugin_metadata.config_schema\n",
    "    values = get_default_values_from_schema(schema)\n",
    "    alert_msg = create_success_alert(\"Configuration reset to defaults\")\n",
    "    \n",
    "    return create_settings_form_container(\n",
    "        schema=schema,\n",
    "        values=values,\n",
    "        post_url=plugin_save.to(id=id),\n",
    "        reset_url=plugin_reset.to(id=id),\n",
    "        alert_message=alert_msg,\n",
    "        target_id=InteractionHtmlIds.MASTER_DETAIL_DETAIL\n",
    "    )"
   ]
  },
  {
   "cell_type": "code",
   "execution_count": null,
   "id": "jdgqdnblmxg",
   "metadata": {},
   "outputs": [],
   "source": [
    "#| export\n",
    "@settings_ar\n",
    "async def plugin_save(\n",
    "    request,  # FastHTML request object\n",
    "    id: str  # Plugin unique ID\n",
    ") -> FT:  # Response with form or error\n",
    "    \"\"\"Save plugin configuration handler.\"\"\"\n",
    "    from cjm_fasthtml_interactions.core.html_ids import InteractionHtmlIds\n",
    "    \n",
    "    if not config.plugin_registry:\n",
    "        return create_error_alert(\"Plugin system not configured\")\n",
    "    \n",
    "    plugin_metadata = config.plugin_registry.get_plugin(id)\n",
    "    if not plugin_metadata:\n",
    "        return create_error_alert(\"Plugin not found\")\n",
    "    \n",
    "    form_data = await request.form()\n",
    "    schema = plugin_metadata.config_schema\n",
    "    config_data = convert_form_data_to_config(form_data, schema)\n",
    "    \n",
    "    # Save configuration\n",
    "    if config.plugin_registry.save_plugin_config(id, config_data):\n",
    "        alert_msg = create_success_alert(f\"Configuration saved for {plugin_metadata.title}\")\n",
    "        return create_settings_form_container(\n",
    "            schema=schema,\n",
    "            values=config_data,\n",
    "            post_url=plugin_save.to(id=id),\n",
    "            reset_url=plugin_reset.to(id=id),\n",
    "            alert_message=alert_msg,\n",
    "            target_id=InteractionHtmlIds.MASTER_DETAIL_DETAIL\n",
    "        )\n",
    "    else:\n",
    "        return create_error_alert(\"Failed to save configuration\")"
   ]
  },
  {
   "cell_type": "code",
   "execution_count": null,
   "id": "24e4d0d3",
   "metadata": {},
   "outputs": [],
   "source": []
  },
  {
   "cell_type": "markdown",
   "id": "f8a9d4e7",
   "metadata": {},
   "source": [
    "## Usage Example"
   ]
  },
  {
   "cell_type": "code",
   "execution_count": null,
   "id": "e6f7c8d9",
   "metadata": {},
   "outputs": [
    {
     "name": "stdout",
     "output_type": "stream",
     "text": [
      "Settings router prefix: /settings\n",
      "Registered schemas: ['general', 'database']\n",
      "Config directory: my_configs\n"
     ]
    }
   ],
   "source": [
    "# Example: Using the settings router in your app\n",
    "from cjm_fasthtml_settings.core.schemas import registry\n",
    "from cjm_fasthtml_settings.core.config import get_app_config_schema\n",
    "\n",
    "# First, register your schemas\n",
    "registry.register(get_app_config_schema(app_title=\"My App\", include_theme=False))\n",
    "registry.register({\n",
    "    \"name\": \"database\",\n",
    "    \"title\": \"Database Settings\",\n",
    "    \"type\": \"object\",\n",
    "    \"properties\": {\n",
    "        \"host\": {\"type\": \"string\", \"title\": \"Host\", \"default\": \"localhost\"}\n",
    "    }\n",
    "})\n",
    "\n",
    "# NEW WAY: Use the configure_settings helper (recommended)\n",
    "from cjm_fasthtml_settings.routes import configure_settings\n",
    "from pathlib import Path\n",
    "\n",
    "configure_settings(\n",
    "    config_dir=Path(\"my_configs\"),\n",
    "    default_schema=\"general\",\n",
    "    menu_section_title=\"Settings\"\n",
    ")\n",
    "\n",
    "# OLD WAY: Direct config attribute setting (still works)\n",
    "# from cjm_fasthtml_settings.routes import config\n",
    "# config.config_dir = Path(\"my_configs\")\n",
    "# config.default_schema = \"general\"\n",
    "\n",
    "# Then import and use the router\n",
    "from cjm_fasthtml_settings.routes import settings_ar, config\n",
    "\n",
    "print(f\"Settings router prefix: {settings_ar.prefix}\")\n",
    "print(f\"Registered schemas: {registry.list_schemas()}\")\n",
    "print(f\"Config directory: {config.config_dir}\")"
   ]
  },
  {
   "cell_type": "code",
   "execution_count": null,
   "id": "f4a8b5e6",
   "metadata": {},
   "outputs": [],
   "source": []
  },
  {
   "cell_type": "code",
   "execution_count": null,
   "id": "f88b5d97",
   "metadata": {},
   "outputs": [],
   "source": [
    "#| hide\n",
    "import nbdev; nbdev.nbdev_export()"
   ]
  }
 ],
 "metadata": {
  "kernelspec": {
   "display_name": "python3",
   "language": "python",
   "name": "python3"
  }
 },
 "nbformat": 4,
 "nbformat_minor": 5
}
