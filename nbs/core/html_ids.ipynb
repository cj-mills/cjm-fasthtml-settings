{
 "cells": [
  {
   "cell_type": "markdown",
   "id": "54e41322",
   "metadata": {},
   "source": [
    "# HTML IDs\n",
    "\n",
    "> Centralized HTML ID constants for settings components"
   ]
  },
  {
   "cell_type": "code",
   "execution_count": null,
   "id": "68dfe4b2",
   "metadata": {},
   "outputs": [],
   "source": [
    "#| default_exp core.html_ids"
   ]
  },
  {
   "cell_type": "code",
   "execution_count": null,
   "id": "51dcb887",
   "metadata": {},
   "outputs": [],
   "source": [
    "#| hide\n",
    "from nbdev.showdoc import *"
   ]
  },
  {
   "cell_type": "code",
   "execution_count": null,
   "id": "02846803",
   "metadata": {},
   "outputs": [],
   "source": []
  },
  {
   "cell_type": "code",
   "execution_count": null,
   "id": "f54c0809",
   "metadata": {},
   "outputs": [],
   "source": [
    "#| export\n",
    "from typing import Final\n",
    "\n",
    "class HtmlIds:\n",
    "    \"\"\"HTML ID constants used in settings components.\n",
    "    \n",
    "    This class provides centralized HTML ID constants for the settings library.\n",
    "    All IDs are defined as class attributes for IDE autocomplete and type checking.\n",
    "    \n",
    "    For IDE Support:\n",
    "        IDEs like VS Code with Pylance will autocomplete these attributes and warn\n",
    "        if you try to access non-existent attributes. To add app-specific IDs,\n",
    "        extend this class:\n",
    "        \n",
    "        ```python\n",
    "        class AppHtmlIds(HtmlIds):\n",
    "            MAIN_CONTENT = \"main-content\"\n",
    "            CUSTOM_SECTION = \"custom-section\"\n",
    "        ```\n",
    "    \n",
    "    Note:\n",
    "        The typing.Final annotation indicates these are constants that shouldn't\n",
    "        be reassigned at runtime.\n",
    "    \"\"\"\n",
    "\n",
    "    # Settings containers\n",
    "    SETTINGS_CONTENT: Final[str] = \"settings-content\"\n",
    "    SETTINGS_SIDEBAR: Final[str] = \"settings-sidebar\"\n",
    "    ALERT_CONTAINER: Final[str] = \"alert-container\"\n",
    "\n",
    "    # Navigation and menu\n",
    "    SIDEBAR_MENU: Final[str] = \"sidebar-menu\"\n",
    "\n",
    "    @staticmethod\n",
    "    def menu_item(name: str) -> str:\n",
    "        \"\"\"Generate a menu item ID for a given settings name.\"\"\"\n",
    "        return f\"menu-item-{name}\"\n",
    "\n",
    "    @staticmethod\n",
    "    def as_selector(id_str: str) -> str:\n",
    "        \"\"\"Convert an ID to a CSS selector format (with #).\"\"\"\n",
    "        return f\"#{id_str}\""
   ]
  },
  {
   "cell_type": "code",
   "execution_count": null,
   "id": "057faa32",
   "metadata": {},
   "outputs": [
    {
     "name": "stdout",
     "output_type": "stream",
     "text": [
      "Settings content ID: settings-content\n",
      "As selector: #settings-content\n",
      "Menu item for 'general': menu-item-general\n"
     ]
    }
   ],
   "source": [
    "# Example usage\n",
    "print(f\"Settings content ID: {HtmlIds.SETTINGS_CONTENT}\")\n",
    "print(f\"As selector: {HtmlIds.as_selector(HtmlIds.SETTINGS_CONTENT)}\")\n",
    "print(f\"Menu item for 'general': {HtmlIds.menu_item('general')}\")"
   ]
  },
  {
   "cell_type": "code",
   "execution_count": null,
   "id": "rr48sa717q",
   "metadata": {},
   "outputs": [
    {
     "name": "stdout",
     "output_type": "stream",
     "text": [
      "Main content ID: main-content\n",
      "As selector: #main-content\n"
     ]
    }
   ],
   "source": [
    "# Example: Extending HtmlIds for app-specific IDs\n",
    "class AppHtmlIds(HtmlIds):\n",
    "    \"\"\"Extended HTML IDs for application use.\"\"\"\n",
    "    MAIN_CONTENT = \"main-content\"\n",
    "    SIDEBAR = \"sidebar\"\n",
    "    FOOTER = \"footer\"\n",
    "\n",
    "# IDE will autocomplete these and warn about typos\n",
    "print(f\"Main content ID: {AppHtmlIds.MAIN_CONTENT}\")\n",
    "print(f\"As selector: {AppHtmlIds.as_selector(AppHtmlIds.MAIN_CONTENT)}\")\n",
    "\n",
    "# This would cause an IDE warning (if you uncomment it):\n",
    "# print(AppHtmlIds.NONEXISTENT)  # ← IDE shows: \"NONEXISTENT\" is not a known attribute"
   ]
  },
  {
   "cell_type": "code",
   "execution_count": null,
   "id": "7e5398e5",
   "metadata": {},
   "outputs": [],
   "source": []
  },
  {
   "cell_type": "code",
   "execution_count": null,
   "id": "20f1e8c7",
   "metadata": {},
   "outputs": [],
   "source": []
  },
  {
   "cell_type": "code",
   "execution_count": null,
   "id": "558f3002",
   "metadata": {},
   "outputs": [],
   "source": [
    "#| hide\n",
    "import nbdev; nbdev.nbdev_export()"
   ]
  }
 ],
 "metadata": {
  "kernelspec": {
   "display_name": "python3",
   "language": "python",
   "name": "python3"
  }
 },
 "nbformat": 4,
 "nbformat_minor": 5
}
