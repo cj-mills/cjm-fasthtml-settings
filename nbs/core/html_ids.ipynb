{
 "cells": [
  {
   "cell_type": "markdown",
   "id": "54e41322",
   "metadata": {},
   "source": [
    "# HTML IDs\n",
    "\n",
    "> Centralized HTML ID constants for settings components"
   ]
  },
  {
   "cell_type": "code",
   "execution_count": null,
   "id": "68dfe4b2",
   "metadata": {},
   "outputs": [],
   "source": [
    "#| default_exp core.html_ids"
   ]
  },
  {
   "cell_type": "code",
   "execution_count": null,
   "id": "51dcb887",
   "metadata": {},
   "outputs": [],
   "source": [
    "#| hide\n",
    "from nbdev.showdoc import *"
   ]
  },
  {
   "cell_type": "code",
   "execution_count": null,
   "id": "02846803",
   "metadata": {},
   "outputs": [],
   "source": []
  },
  {
   "cell_type": "code",
   "execution_count": null,
   "id": "f54c0809",
   "metadata": {},
   "outputs": [],
   "source": [
    "#| export\n",
    "class HtmlIds:\n",
    "    \"\"\"HTML ID constants used in settings components.\"\"\"\n",
    "\n",
    "    # Settings containers\n",
    "    SETTINGS_CONTENT = \"settings-content\"\n",
    "    SETTINGS_SIDEBAR = \"settings-sidebar\"\n",
    "    ALERT_CONTAINER = \"alert-container\"\n",
    "\n",
    "    # Navigation and menu\n",
    "    SIDEBAR_MENU = \"sidebar-menu\"\n",
    "\n",
    "    @staticmethod\n",
    "    def menu_item(name: str) -> str:\n",
    "        \"\"\"Generate a menu item ID for a given settings name.\"\"\"\n",
    "        return f\"menu-item-{name}\"\n",
    "\n",
    "    @staticmethod\n",
    "    def as_selector(id_str: str) -> str:\n",
    "        \"\"\"Convert an ID to a CSS selector format (with #).\"\"\"\n",
    "        return f\"#{id_str}\""
   ]
  },
  {
   "cell_type": "code",
   "execution_count": null,
   "id": "057faa32",
   "metadata": {},
   "outputs": [
    {
     "name": "stdout",
     "output_type": "stream",
     "text": [
      "Settings content ID: settings-content\n",
      "As selector: #settings-content\n",
      "Menu item for 'general': menu-item-general\n"
     ]
    }
   ],
   "source": [
    "# Example usage\n",
    "print(f\"Settings content ID: {HtmlIds.SETTINGS_CONTENT}\")\n",
    "print(f\"As selector: {HtmlIds.as_selector(HtmlIds.SETTINGS_CONTENT)}\")\n",
    "print(f\"Menu item for 'general': {HtmlIds.menu_item('general')}\")"
   ]
  },
  {
   "cell_type": "code",
   "execution_count": null,
   "id": "7e5398e5",
   "metadata": {},
   "outputs": [],
   "source": []
  },
  {
   "cell_type": "code",
   "execution_count": null,
   "id": "20f1e8c7",
   "metadata": {},
   "outputs": [],
   "source": []
  },
  {
   "cell_type": "code",
   "execution_count": null,
   "id": "558f3002",
   "metadata": {},
   "outputs": [],
   "source": [
    "#| hide\n",
    "import nbdev; nbdev.nbdev_export()"
   ]
  }
 ],
 "metadata": {
  "kernelspec": {
   "display_name": "python3",
   "language": "python",
   "name": "python3"
  }
 },
 "nbformat": 4,
 "nbformat_minor": 5
}
