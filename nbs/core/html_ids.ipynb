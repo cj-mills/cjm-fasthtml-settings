{
 "cells": [
  {
   "cell_type": "markdown",
   "id": "54e41322",
   "metadata": {},
   "source": [
    "# HTML IDs\n",
    "\n",
    "> Centralized HTML ID constants for settings components"
   ]
  },
  {
   "cell_type": "code",
   "execution_count": null,
   "id": "68dfe4b2",
   "metadata": {},
   "outputs": [],
   "source": [
    "#| default_exp core.html_ids"
   ]
  },
  {
   "cell_type": "code",
   "execution_count": null,
   "id": "51dcb887",
   "metadata": {},
   "outputs": [],
   "source": [
    "#| hide\n",
    "from nbdev.showdoc import *"
   ]
  },
  {
   "cell_type": "code",
   "execution_count": null,
   "id": "02846803",
   "metadata": {},
   "outputs": [],
   "source": []
  },
  {
   "cell_type": "markdown",
   "id": "r2ttabvmh4e",
   "metadata": {},
   "source": [
    "This class extends `AppHtmlIds` from `cjm_fasthtml_app_core` with settings-specific IDs.\n",
    "\n",
    "**Inherited from AppHtmlIds:**\n",
    "- `ALERT_CONTAINER`: \"alert-container\"\n",
    "- `MAIN_CONTENT`: \"main-content\"\n",
    "- `as_selector(id_str)`: Converts an ID to CSS selector format (with #)\n",
    "\n",
    "**For IDE Support:**\n",
    "IDEs like VS Code with Pylance will autocomplete these attributes and warn if you try to access non-existent attributes.\n",
    "\n",
    "**Note:** The `typing.Final` annotation indicates these are constants that shouldn't be reassigned at runtime."
   ]
  },
  {
   "cell_type": "code",
   "execution_count": null,
   "id": "f54c0809",
   "metadata": {},
   "outputs": [],
   "source": [
    "#| export\n",
    "from typing import Final\n",
    "from cjm_fasthtml_app_core.core.html_ids import AppHtmlIds\n",
    "\n",
    "class SettingsHtmlIds(AppHtmlIds):\n",
    "    \"\"\"HTML ID constants for settings components.\"\"\"\n",
    "\n",
    "    # Settings-specific containers\n",
    "    SETTINGS_CONTENT: Final[str] = \"settings-content\"\n",
    "    SETTINGS_SIDEBAR: Final[str] = \"settings-sidebar\"\n",
    "\n",
    "    # Navigation and menu\n",
    "    SIDEBAR_MENU: Final[str] = \"sidebar-menu\"\n",
    "\n",
    "    @staticmethod\n",
    "    def menu_item(\n",
    "        name: str  # Settings name\n",
    "    ) -> str:  # Menu item ID\n",
    "        \"\"\"Generate a menu item ID for a given settings name.\"\"\"\n",
    "        return f\"menu-item-{name}\""
   ]
  },
  {
   "cell_type": "code",
   "execution_count": null,
   "id": "057faa32",
   "metadata": {},
   "outputs": [
    {
     "name": "stdout",
     "output_type": "stream",
     "text": [
      "Settings content ID: settings-content\n",
      "As selector: #settings-content\n",
      "Menu item for 'general': menu-item-general\n",
      "Alert container (inherited): alert-container\n"
     ]
    }
   ],
   "source": [
    "# Example usage\n",
    "print(f\"Settings content ID: {SettingsHtmlIds.SETTINGS_CONTENT}\")\n",
    "print(f\"As selector: {SettingsHtmlIds.as_selector(SettingsHtmlIds.SETTINGS_CONTENT)}\")\n",
    "print(f\"Menu item for 'general': {SettingsHtmlIds.menu_item('general')}\")\n",
    "print(f\"Alert container (inherited): {SettingsHtmlIds.ALERT_CONTAINER}\")"
   ]
  },
  {
   "cell_type": "code",
   "execution_count": null,
   "id": "rr48sa717q",
   "metadata": {},
   "outputs": [
    {
     "name": "stdout",
     "output_type": "stream",
     "text": [
      "Inherited MAIN_CONTENT ID: main-content\n",
      "Inherited ALERT_CONTAINER: alert-container\n",
      "Settings-specific SETTINGS_CONTENT: settings-content\n",
      "As selector (inherited method): #settings-sidebar\n"
     ]
    }
   ],
   "source": [
    "# Example: SettingsHtmlIds inherits from AppHtmlIds\n",
    "print(f\"Inherited MAIN_CONTENT ID: {SettingsHtmlIds.MAIN_CONTENT}\")\n",
    "print(f\"Inherited ALERT_CONTAINER: {SettingsHtmlIds.ALERT_CONTAINER}\")\n",
    "print(f\"Settings-specific SETTINGS_CONTENT: {SettingsHtmlIds.SETTINGS_CONTENT}\")\n",
    "print(f\"As selector (inherited method): {SettingsHtmlIds.as_selector(SettingsHtmlIds.SETTINGS_SIDEBAR)}\")"
   ]
  },
  {
   "cell_type": "code",
   "execution_count": null,
   "id": "7e5398e5",
   "metadata": {},
   "outputs": [],
   "source": []
  },
  {
   "cell_type": "code",
   "execution_count": null,
   "id": "20f1e8c7",
   "metadata": {},
   "outputs": [],
   "source": []
  },
  {
   "cell_type": "code",
   "execution_count": null,
   "id": "558f3002",
   "metadata": {},
   "outputs": [],
   "source": [
    "#| hide\n",
    "import nbdev; nbdev.nbdev_export()"
   ]
  }
 ],
 "metadata": {
  "kernelspec": {
   "display_name": "python3",
   "language": "python",
   "name": "python3"
  }
 },
 "nbformat": 4,
 "nbformat_minor": 5
}
