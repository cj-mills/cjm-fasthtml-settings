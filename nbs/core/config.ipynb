{
 "cells": [
  {
   "cell_type": "markdown",
   "id": "0ef1108e",
   "metadata": {},
   "source": [
    "# Config\n",
    "\n",
    "> Configuration constants, directory management, and base application schema"
   ]
  },
  {
   "cell_type": "code",
   "execution_count": null,
   "id": "1239dcc4",
   "metadata": {},
   "outputs": [],
   "source": [
    "#| default_exp core.config"
   ]
  },
  {
   "cell_type": "code",
   "execution_count": null,
   "id": "00b76d8d",
   "metadata": {},
   "outputs": [],
   "source": [
    "#| hide\n",
    "from nbdev.showdoc import *"
   ]
  },
  {
   "cell_type": "code",
   "execution_count": null,
   "id": "15730f1d",
   "metadata": {},
   "outputs": [],
   "source": [
    "#| export\n",
    "import json\n",
    "from pathlib import Path\n",
    "from typing import Dict, Any, Optional, List"
   ]
  },
  {
   "cell_type": "code",
   "execution_count": null,
   "id": "866159f6",
   "metadata": {},
   "outputs": [],
   "source": []
  },
  {
   "cell_type": "code",
   "execution_count": null,
   "id": "c6ad528d",
   "metadata": {},
   "outputs": [],
   "source": [
    "#| export\n",
    "# Default configuration storage directory\n",
    "DEFAULT_CONFIG_DIR = Path(\"configs\")"
   ]
  },
  {
   "cell_type": "code",
   "execution_count": null,
   "id": "8ec6fd50",
   "metadata": {},
   "outputs": [],
   "source": []
  },
  {
   "cell_type": "code",
   "execution_count": null,
   "id": "90bbf3af",
   "metadata": {},
   "outputs": [],
   "source": [
    "#| export\n",
    "def get_app_config_schema(\n",
    "    app_title: str = \"FastHTML Application\",  # Default application title\n",
    "    config_dir: str = \"configs\",  # Default configuration directory\n",
    "    server_port: int = 5000,  # Default server port\n",
    "    themes_enum: Optional[List[str]] = None,  # Optional list of theme values\n",
    "    themes_enum_names: Optional[List[str]] = None,  # Optional list of theme display names\n",
    "    default_theme: Optional[str] = None,  # Default theme value\n",
    "    include_theme: bool = True,  # Whether to include theme selection\n",
    "    **extra_properties  # Additional custom properties to add to the schema\n",
    ") -> Dict[str, Any]:  # JSON Schema for application configuration\n",
    "    \"\"\"Generate a customizable application configuration schema.\n",
    "    \n",
    "    This function creates a JSON Schema for application settings that can be customized\n",
    "    with your own defaults and additional properties.\n",
    "    \n",
    "    Returns:\n",
    "        A JSON Schema dictionary with application configuration structure\n",
    "    \"\"\"\n",
    "    \n",
    "    schema = {\n",
    "        \"type\": \"object\",\n",
    "        \"name\": \"general\",\n",
    "        \"title\": \"Application Configuration\",\n",
    "        \"menu_title\": \"Application\",\n",
    "        \"description\": \"General application settings and configuration\",\n",
    "        \"properties\": {\n",
    "            \"app_title\": {\n",
    "                \"type\": \"string\",\n",
    "                \"title\": \"Application Title\",\n",
    "                \"description\": \"Title displayed in the navbar and browser tab\",\n",
    "                \"default\": app_title,\n",
    "                \"minLength\": 1,\n",
    "                \"maxLength\": 100\n",
    "            },\n",
    "            \"config_dir\": {\n",
    "                \"type\": \"string\",\n",
    "                \"title\": \"Configuration Directory\",\n",
    "                \"description\": \"Directory where configuration files are stored\",\n",
    "                \"default\": config_dir,\n",
    "                \"pattern\": '^[^<>:\"|?*]+$'\n",
    "            },\n",
    "            \"auto_open_browser\": {\n",
    "                \"type\": \"boolean\",\n",
    "                \"title\": \"Auto Open Browser\",\n",
    "                \"description\": \"Automatically open browser when starting the application\",\n",
    "                \"default\": True\n",
    "            },\n",
    "            \"server_port\": {\n",
    "                \"type\": \"integer\",\n",
    "                \"title\": \"Server Port\",\n",
    "                \"description\": \"Port number for the web server\",\n",
    "                \"default\": server_port,\n",
    "                \"minimum\": 1024,\n",
    "                \"maximum\": 65535\n",
    "            },\n",
    "            \"server_host\": {\n",
    "                \"type\": \"string\",\n",
    "                \"title\": \"Server Host\",\n",
    "                \"description\": \"Host address for the web server\",\n",
    "                \"default\": \"0.0.0.0\",\n",
    "                \"enum\": [\"0.0.0.0\", \"127.0.0.1\", \"localhost\"],\n",
    "                \"enumNames\": [\"All interfaces (0.0.0.0)\", \"Local only (127.0.0.1)\", \"Local only (localhost)\"]\n",
    "            },\n",
    "            \"debug_mode\": {\n",
    "                \"type\": \"boolean\",\n",
    "                \"title\": \"Debug Mode\",\n",
    "                \"description\": \"Enable debug mode for development\",\n",
    "                \"default\": False\n",
    "            },\n",
    "            \"reload_on_change\": {\n",
    "                \"type\": \"boolean\",\n",
    "                \"title\": \"Auto Reload\",\n",
    "                \"description\": \"Automatically reload the application when files change (development only)\",\n",
    "                \"default\": False\n",
    "            },\n",
    "            \"max_upload_size_mb\": {\n",
    "                \"type\": \"number\",\n",
    "                \"title\": \"Maximum Upload Size (MB)\",\n",
    "                \"description\": \"Maximum file upload size in megabytes\",\n",
    "                \"default\": 100,\n",
    "                \"minimum\": 1,\n",
    "                \"maximum\": 10240\n",
    "            },\n",
    "            \"session_timeout_minutes\": {\n",
    "                \"type\": \"integer\",\n",
    "                \"title\": \"Session Timeout (minutes)\",\n",
    "                \"description\": \"Session timeout in minutes (0 for no timeout)\",\n",
    "                \"default\": 60,\n",
    "                \"minimum\": 0,\n",
    "                \"maximum\": 1440\n",
    "            }\n",
    "        },\n",
    "        \"required\": [\"app_title\", \"config_dir\"]\n",
    "    }\n",
    "    \n",
    "    # Add theme property if requested\n",
    "    if include_theme and themes_enum and themes_enum_names:\n",
    "        schema[\"onclick_save\"] = \"\"\"\n",
    "        // Get the theme value from the form\n",
    "        const themeSelect = document.querySelector('select[name=\"theme\"]');\n",
    "        if (themeSelect) {\n",
    "            const theme = themeSelect.value;\n",
    "            // Apply the theme immediately\n",
    "            document.documentElement.setAttribute('data-theme', theme);\n",
    "            // Persist the theme to localStorage\n",
    "            localStorage.setItem('daisyui-theme', theme);\n",
    "        }\n",
    "    \"\"\"\n",
    "        \n",
    "        schema[\"properties\"][\"theme\"] = {\n",
    "            \"type\": \"string\",\n",
    "            \"title\": \"Default Theme\",\n",
    "            \"description\": \"Default application theme\",\n",
    "            \"default\": default_theme or themes_enum[0],\n",
    "            \"enum\": themes_enum,\n",
    "            \"enumNames\": themes_enum_names\n",
    "        }\n",
    "    \n",
    "    # Add any extra custom properties\n",
    "    schema[\"properties\"].update(extra_properties)\n",
    "    \n",
    "    return schema"
   ]
  },
  {
   "cell_type": "code",
   "execution_count": null,
   "id": "ab87b9a3",
   "metadata": {},
   "outputs": [
    {
     "name": "stdout",
     "output_type": "stream",
     "text": [
      "Schema name: general\n",
      "Schema title: Application Configuration\n",
      "Default app_title: My FastHTML App\n",
      "Default server_port: 5001\n",
      "Has theme property: False\n"
     ]
    }
   ],
   "source": [
    "# Example: Create a basic app config schema\n",
    "basic_schema = get_app_config_schema(\n",
    "    app_title=\"My FastHTML App\",\n",
    "    server_port=5001,\n",
    "    include_theme=False\n",
    ")\n",
    "\n",
    "print(f\"Schema name: {basic_schema['name']}\")\n",
    "print(f\"Schema title: {basic_schema['title']}\")\n",
    "print(f\"Default app_title: {basic_schema['properties']['app_title']['default']}\")\n",
    "print(f\"Default server_port: {basic_schema['properties']['server_port']['default']}\")\n",
    "print(f\"Has theme property: {'theme' in basic_schema['properties']}\")"
   ]
  },
  {
   "cell_type": "code",
   "execution_count": null,
   "id": "5ed4dc87",
   "metadata": {},
   "outputs": [],
   "source": []
  },
  {
   "cell_type": "code",
   "execution_count": null,
   "id": "ca2d5318",
   "metadata": {},
   "outputs": [
    {
     "name": "stdout",
     "output_type": "stream",
     "text": [
      "Has theme property: True\n",
      "Default theme: light\n",
      "Has onclick_save: True\n"
     ]
    }
   ],
   "source": [
    "# Example: Create schema with DaisyUI themes\n",
    "try:\n",
    "    from cjm_fasthtml_daisyui.core.themes import DaisyUITheme\n",
    "    \n",
    "    theme_schema = get_app_config_schema(\n",
    "        app_title=\"My Themed App\",\n",
    "        themes_enum=[theme.value for theme in DaisyUITheme],\n",
    "        themes_enum_names=[theme.value.title() for theme in DaisyUITheme],\n",
    "        default_theme=DaisyUITheme.LIGHT.value,\n",
    "        include_theme=True\n",
    "    )\n",
    "    \n",
    "    print(f\"Has theme property: {'theme' in theme_schema['properties']}\")\n",
    "    print(f\"Default theme: {theme_schema['properties']['theme']['default']}\")\n",
    "    print(f\"Has onclick_save: {'onclick_save' in theme_schema}\")\n",
    "except ImportError:\n",
    "    print(\"cjm_fasthtml_daisyui not available - skipping theme example\")"
   ]
  },
  {
   "cell_type": "code",
   "execution_count": null,
   "id": "70a85e7d",
   "metadata": {},
   "outputs": [],
   "source": []
  },
  {
   "cell_type": "code",
   "execution_count": null,
   "id": "36d2ebee",
   "metadata": {},
   "outputs": [],
   "source": [
    "#| hide\n",
    "import nbdev; nbdev.nbdev_export()"
   ]
  }
 ],
 "metadata": {
  "kernelspec": {
   "display_name": "python3",
   "language": "python",
   "name": "python3"
  }
 },
 "nbformat": 4,
 "nbformat_minor": 5
}
