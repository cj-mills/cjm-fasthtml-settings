{
 "cells": [
  {
   "cell_type": "markdown",
   "id": "9caeb4bc",
   "metadata": {},
   "source": [
    "# Schema Group\n",
    "\n",
    "> Grouping related configuration schemas for better organization"
   ]
  },
  {
   "cell_type": "code",
   "execution_count": null,
   "id": "f247ab24",
   "metadata": {},
   "outputs": [],
   "source": [
    "#| default_exp core.schema_group"
   ]
  },
  {
   "cell_type": "code",
   "execution_count": null,
   "id": "a0104402",
   "metadata": {},
   "outputs": [],
   "source": [
    "#| hide\n",
    "from nbdev.showdoc import *"
   ]
  },
  {
   "cell_type": "code",
   "execution_count": null,
   "id": "f1eac3eb",
   "metadata": {},
   "outputs": [],
   "source": [
    "#| export\n",
    "from dataclasses import dataclass, field\n",
    "from pathlib import Path\n",
    "from typing import Dict, Any, Optional"
   ]
  },
  {
   "cell_type": "code",
   "execution_count": null,
   "id": "58b004eb",
   "metadata": {},
   "outputs": [],
   "source": [
    "#| export\n",
    "@dataclass\n",
    "class SchemaGroup:\n",
    "    \"\"\"A group of related configuration schemas.\n",
    "    \n",
    "    Use SchemaGroup to organize multiple related schemas under a single\n",
    "    collapsible section in the settings sidebar. This is useful for\n",
    "    applications with many configuration options.\n",
    "    \n",
    "    Example:\n",
    "        ```python\n",
    "        media_group = SchemaGroup(\n",
    "            name=\"media\",\n",
    "            title=\"Media Settings\",\n",
    "            schemas={\n",
    "                \"scanner\": MEDIA_SCAN_SCHEMA,\n",
    "                \"player\": MEDIA_PLAYER_SCHEMA,\n",
    "                \"library\": MEDIA_LIBRARY_SCHEMA\n",
    "            },\n",
    "            default_open=True,\n",
    "            description=\"Configure media scanning, playback, and library\"\n",
    "        )\n",
    "        ```\n",
    "    \n",
    "    Attributes:\n",
    "        name: Internal identifier for the group (used in unique IDs)\n",
    "        title: Display title shown in the sidebar\n",
    "        schemas: Dictionary mapping schema keys to schema definitions\n",
    "        icon: Optional icon/SVG element for the group\n",
    "        default_open: Whether the group is expanded by default\n",
    "        description: Optional description of the group\n",
    "    \"\"\"\n",
    "    name: str\n",
    "    title: str\n",
    "    schemas: Dict[str, Dict[str, Any]]\n",
    "    icon: Optional[Any] = None\n",
    "    default_open: bool = True\n",
    "    description: Optional[str] = None\n",
    "\n",
    "    def get_schema(self, schema_name: str) -> Optional[Dict[str, Any]]:\n",
    "        \"\"\"Get a specific schema from the group by name.\"\"\"\n",
    "        return self.schemas.get(schema_name)\n",
    "\n",
    "    def get_unique_id(self, schema_name: str) -> str:\n",
    "        \"\"\"Generate a unique ID for a schema within this group.\n",
    "        \n",
    "        Format: {group_name}_{schema_name}\n",
    "        Example: \"media_scanner\"\n",
    "        \"\"\"\n",
    "        return f\"{self.name}_{schema_name}\"\n",
    "\n",
    "    def has_configured_schemas(\n",
    "        self,\n",
    "        config_dir: Path  # Directory where config files are stored\n",
    "    ) -> bool:  # True if any schema in group has saved config\n",
    "        \"\"\"Check if any schemas in this group have saved configurations.\"\"\"\n",
    "        for schema_name in self.schemas:\n",
    "            config_file = Path(config_dir) / f\"{self.get_unique_id(schema_name)}.json\"\n",
    "            if config_file.exists():\n",
    "                return True\n",
    "        return False\n",
    "\n",
    "    def get_configured_schemas(\n",
    "        self,\n",
    "        config_dir: Path  # Directory where config files are stored\n",
    "    ) -> list:  # List of schema names that have saved configs\n",
    "        \"\"\"Get list of configured schema names in this group.\"\"\"\n",
    "        configured = []\n",
    "        for schema_name in self.schemas:\n",
    "            config_file = Path(config_dir) / f\"{self.get_unique_id(schema_name)}.json\"\n",
    "            if config_file.exists():\n",
    "                configured.append(schema_name)\n",
    "        return configured"
   ]
  },
  {
   "cell_type": "code",
   "execution_count": null,
   "id": "d5e7d703",
   "metadata": {},
   "outputs": [
    {
     "name": "stdout",
     "output_type": "stream",
     "text": [
      "Group name: database\n",
      "Group title: Database Settings\n",
      "Unique ID for 'connection': database_connection\n",
      "Connection schema: Connection Settings\n"
     ]
    }
   ],
   "source": [
    "# Example: Create a schema group\n",
    "database_group = SchemaGroup(\n",
    "    name=\"database\",\n",
    "    title=\"Database Settings\",\n",
    "    schemas={\n",
    "        \"connection\": {\n",
    "            \"name\": \"connection\",\n",
    "            \"title\": \"Connection Settings\",\n",
    "            \"type\": \"object\",\n",
    "            \"properties\": {\n",
    "                \"host\": {\"type\": \"string\", \"title\": \"Host\", \"default\": \"localhost\"}\n",
    "            }\n",
    "        },\n",
    "        \"performance\": {\n",
    "            \"name\": \"performance\",\n",
    "            \"title\": \"Performance Settings\",\n",
    "            \"type\": \"object\",\n",
    "            \"properties\": {\n",
    "                \"pool_size\": {\"type\": \"integer\", \"title\": \"Pool Size\", \"default\": 10}\n",
    "            }\n",
    "        }\n",
    "    },\n",
    "    default_open=True,\n",
    "    description=\"Configure database connection and performance\"\n",
    ")\n",
    "\n",
    "print(f\"Group name: {database_group.name}\")\n",
    "print(f\"Group title: {database_group.title}\")\n",
    "print(f\"Unique ID for 'connection': {database_group.get_unique_id('connection')}\")\n",
    "print(f\"Connection schema: {database_group.get_schema('connection')['title']}\")"
   ]
  },
  {
   "cell_type": "code",
   "execution_count": null,
   "id": "f5d5f0ab",
   "metadata": {},
   "outputs": [
    {
     "name": "stdout",
     "output_type": "stream",
     "text": [
      "Has configured schemas (before): False\n",
      "Has configured schemas (after): True\n",
      "Configured schemas: ['connection']\n"
     ]
    }
   ],
   "source": [
    "# Example: Check for configured schemas\n",
    "import tempfile\n",
    "import json\n",
    "\n",
    "\n",
    "database_group = SchemaGroup(\n",
    "    name=\"database\",\n",
    "    title=\"Database Settings\",\n",
    "    schemas={\n",
    "        \"connection\": {\n",
    "            \"name\": \"connection\",\n",
    "            \"title\": \"Connection Settings\",\n",
    "            \"type\": \"object\",\n",
    "            \"properties\": {\n",
    "                \"host\": {\"type\": \"string\", \"title\": \"Host\", \"default\": \"localhost\"}\n",
    "            }\n",
    "        },\n",
    "        \"performance\": {\n",
    "            \"name\": \"performance\",\n",
    "            \"title\": \"Performance Settings\",\n",
    "            \"type\": \"object\",\n",
    "            \"properties\": {\n",
    "                \"pool_size\": {\"type\": \"integer\", \"title\": \"Pool Size\", \"default\": 10}\n",
    "            }\n",
    "        }\n",
    "    },\n",
    "    default_open=True,\n",
    "    description=\"Configure database connection and performance\"\n",
    ")\n",
    "\n",
    "# Create a temporary config directory\n",
    "with tempfile.TemporaryDirectory() as tmpdir:\n",
    "    config_dir = Path(tmpdir)\n",
    "    \n",
    "    # Initially, no schemas are configured\n",
    "    print(f\"Has configured schemas (before): {database_group.has_configured_schemas(config_dir)}\")\n",
    "    \n",
    "    # Save a config file for one schema\n",
    "    config_file = config_dir / \"database_connection.json\"\n",
    "    with open(config_file, 'w') as f:\n",
    "        json.dump({\"host\": \"prod.example.com\"}, f)\n",
    "    \n",
    "    # Now it should detect configured schemas\n",
    "    print(f\"Has configured schemas (after): {database_group.has_configured_schemas(config_dir)}\")\n",
    "    print(f\"Configured schemas: {database_group.get_configured_schemas(config_dir)}\")"
   ]
  },
  {
   "cell_type": "code",
   "execution_count": null,
   "id": "71d1c444",
   "metadata": {},
   "outputs": [],
   "source": [
    "#| hide\n",
    "import nbdev; nbdev.nbdev_export()"
   ]
  }
 ],
 "metadata": {
  "kernelspec": {
   "display_name": "python3",
   "language": "python",
   "name": "python3"
  }
 },
 "nbformat": 4,
 "nbformat_minor": 5
}
