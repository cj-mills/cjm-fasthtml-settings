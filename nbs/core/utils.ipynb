{
 "cells": [
  {
   "cell_type": "markdown",
   "id": "b41a0ca3",
   "metadata": {},
   "source": [
    "# Utils\n",
    "\n",
    "> Configuration loading, saving, and conversion utilities"
   ]
  },
  {
   "cell_type": "code",
   "execution_count": null,
   "id": "08063591",
   "metadata": {},
   "outputs": [],
   "source": [
    "#| default_exp core.utils"
   ]
  },
  {
   "cell_type": "code",
   "execution_count": null,
   "id": "70223a38",
   "metadata": {},
   "outputs": [],
   "source": [
    "#| hide\n",
    "from nbdev.showdoc import *"
   ]
  },
  {
   "cell_type": "code",
   "execution_count": null,
   "id": "d4d006cb",
   "metadata": {},
   "outputs": [],
   "source": [
    "#| export\n",
    "import json\n",
    "from pathlib import Path\n",
    "from typing import Dict, Any, Optional"
   ]
  },
  {
   "cell_type": "code",
   "execution_count": null,
   "id": "01353316",
   "metadata": {},
   "outputs": [],
   "source": []
  },
  {
   "cell_type": "markdown",
   "id": "7237f013",
   "metadata": {},
   "source": [
    "## Configuration File Operations"
   ]
  },
  {
   "cell_type": "code",
   "execution_count": null,
   "id": "1b59affc",
   "metadata": {},
   "outputs": [],
   "source": [
    "#| export\n",
    "def load_config(\n",
    "    schema_name: str,  # Name of the schema/configuration to load\n",
    "    config_dir: Optional[Path] = None  # Directory where config files are stored\n",
    ") -> Dict[str, Any]:  # Loaded configuration dictionary (empty dict if file doesn't exist)\n",
    "    \"\"\"Load saved configuration for a schema.\n",
    "    \n",
    "    Loads a JSON configuration file from the config directory.\n",
    "    If the file doesn't exist, returns an empty dictionary.\n",
    "    \"\"\"\n",
    "    if config_dir is None:\n",
    "        from cjm_fasthtml_settings.core.config import DEFAULT_CONFIG_DIR\n",
    "        config_dir = DEFAULT_CONFIG_DIR\n",
    "        \n",
    "    config_file = Path(config_dir) / f\"{schema_name}.json\"\n",
    "    if config_file.exists():\n",
    "        with open(config_file, \"r\") as f:\n",
    "            return json.load(f)\n",
    "    return {}"
   ]
  },
  {
   "cell_type": "code",
   "execution_count": null,
   "id": "0371219c",
   "metadata": {},
   "outputs": [],
   "source": []
  },
  {
   "cell_type": "code",
   "execution_count": null,
   "id": "55fcd917",
   "metadata": {},
   "outputs": [],
   "source": [
    "#| export\n",
    "def save_config(\n",
    "    schema_name: str,  # Name of the schema/configuration to save\n",
    "    config: Dict[str, Any],  # Configuration dictionary to save\n",
    "    config_dir: Optional[Path] = None  # Directory where config files are stored\n",
    ") -> bool:  # True if save succeeded, False otherwise\n",
    "    \"\"\"Save configuration for a schema.\n",
    "    \n",
    "    Saves a configuration dictionary as a JSON file in the config directory.\n",
    "    Creates the config directory if it doesn't exist.\n",
    "    \"\"\"\n",
    "    if config_dir is None:\n",
    "        from cjm_fasthtml_settings.core.config import DEFAULT_CONFIG_DIR\n",
    "        config_dir = DEFAULT_CONFIG_DIR\n",
    "        \n",
    "    try:\n",
    "        config_dir = Path(config_dir)\n",
    "        config_dir.mkdir(exist_ok=True, parents=True)\n",
    "        \n",
    "        config_file = config_dir / f\"{schema_name}.json\"\n",
    "        with open(config_file, \"w\") as f:\n",
    "            json.dump(config, f, indent=2)\n",
    "        return True\n",
    "    except Exception as e:\n",
    "        print(f\"Error saving config: {e}\")\n",
    "        return False"
   ]
  },
  {
   "cell_type": "code",
   "execution_count": null,
   "id": "d9ebf698",
   "metadata": {},
   "outputs": [],
   "source": []
  },
  {
   "cell_type": "markdown",
   "id": "caaf16c9",
   "metadata": {},
   "source": [
    "## Schema Utilities"
   ]
  },
  {
   "cell_type": "code",
   "execution_count": null,
   "id": "09d6bb79",
   "metadata": {},
   "outputs": [],
   "source": [
    "#| export\n",
    "def get_default_values_from_schema(\n",
    "    schema: Dict[str, Any]  # JSON Schema dictionary\n",
    ") -> Dict[str, Any]:  # Dictionary of default values extracted from schema\n",
    "    \"\"\"Extract default values from a JSON schema.\n",
    "    \n",
    "    Iterates through the schema's properties and extracts any 'default' values.\n",
    "    \"\"\"\n",
    "    values = {}\n",
    "    properties = schema.get(\"properties\", {})\n",
    "\n",
    "    for prop_name, prop_schema in properties.items():\n",
    "        if \"default\" in prop_schema:\n",
    "            values[prop_name] = prop_schema[\"default\"]\n",
    "\n",
    "    return values"
   ]
  },
  {
   "cell_type": "code",
   "execution_count": null,
   "id": "e8124784",
   "metadata": {},
   "outputs": [
    {
     "name": "stdout",
     "output_type": "stream",
     "text": [
      "Default values:\n",
      "  app_title: Test App\n",
      "  config_dir: configs\n",
      "  auto_open_browser: True\n",
      "  server_port: 8000\n",
      "  server_host: 0.0.0.0\n",
      "  debug_mode: False\n",
      "  reload_on_change: False\n",
      "  max_upload_size_mb: 100\n",
      "  session_timeout_minutes: 60\n"
     ]
    }
   ],
   "source": [
    "# Example: Extract defaults from a schema\n",
    "from cjm_fasthtml_settings.core.config import get_app_config_schema\n",
    "\n",
    "schema = get_app_config_schema(app_title=\"Test App\", server_port=8000)\n",
    "defaults = get_default_values_from_schema(schema)\n",
    "\n",
    "print(\"Default values:\")\n",
    "for key, value in defaults.items():\n",
    "    print(f\"  {key}: {value}\")"
   ]
  },
  {
   "cell_type": "code",
   "execution_count": null,
   "id": "49afe9e7",
   "metadata": {},
   "outputs": [],
   "source": []
  },
  {
   "cell_type": "code",
   "execution_count": null,
   "id": "9c160386",
   "metadata": {},
   "outputs": [],
   "source": [
    "#| export\n",
    "def get_config_with_defaults(\n",
    "    schema_name: str,  # Name of the schema\n",
    "    schema: Dict[str, Any],  # JSON Schema dictionary\n",
    "    config_dir: Optional[Path] = None  # Directory where config files are stored\n",
    ") -> Dict[str, Any]:  # Merged configuration with defaults and saved values\n",
    "    \"\"\"Get configuration with defaults merged with saved values.\n",
    "    \n",
    "    Loads saved configuration and merges it with schema defaults.\n",
    "    Saved values take precedence over defaults.\n",
    "    \"\"\"\n",
    "    saved_config = load_config(schema_name, config_dir)\n",
    "    default_values = get_default_values_from_schema(schema)\n",
    "    return {**default_values, **saved_config}"
   ]
  },
  {
   "cell_type": "code",
   "execution_count": null,
   "id": "f8b5ef28",
   "metadata": {},
   "outputs": [],
   "source": []
  },
  {
   "cell_type": "markdown",
   "id": "1c77bb3b",
   "metadata": {},
   "source": [
    "## Form Data Conversion"
   ]
  },
  {
   "cell_type": "code",
   "execution_count": null,
   "id": "d501c86f",
   "metadata": {},
   "outputs": [],
   "source": [
    "#| export\n",
    "def convert_form_data_to_config(\n",
    "    form_data: dict,  # Raw form data from request\n",
    "    schema: Dict[str, Any]  # JSON Schema for type conversion\n",
    ") -> dict:  # Converted configuration dictionary\n",
    "    \"\"\"Convert form data to configuration dict based on schema.\n",
    "    \n",
    "    Handles type conversions for:\n",
    "    - Boolean fields (checkboxes)\n",
    "    - Integer and number fields\n",
    "    - Array fields (comma-separated or Python list format)\n",
    "    \"\"\"\n",
    "    config = dict(form_data)\n",
    "\n",
    "    # Handle boolean fields (checkboxes)\n",
    "    for prop_name, prop_schema in schema.get(\"properties\", {}).items():\n",
    "        if prop_schema.get(\"type\") == \"boolean\":\n",
    "            config[prop_name] = prop_name in config\n",
    "\n",
    "    # Convert numeric fields\n",
    "    for prop_name, prop_schema in schema.get(\"properties\", {}).items():\n",
    "        if prop_name in config:\n",
    "            prop_type = prop_schema.get(\"type\")\n",
    "            value = config[prop_name]\n",
    "\n",
    "            # Handle empty strings - convert to None for optional fields\n",
    "            if value == \"\" or value is None:\n",
    "                config[prop_name] = None\n",
    "                continue\n",
    "\n",
    "            if prop_type == \"integer\" or (isinstance(prop_type, list) and \"integer\" in prop_type):\n",
    "                try:\n",
    "                    config[prop_name] = int(value)\n",
    "                except (ValueError, TypeError):\n",
    "                    config[prop_name] = None\n",
    "            elif prop_type == \"number\" or (isinstance(prop_type, list) and \"number\" in prop_type):\n",
    "                try:\n",
    "                    config[prop_name] = float(value)\n",
    "                except (ValueError, TypeError):\n",
    "                    config[prop_name] = None\n",
    "\n",
    "    # Handle array fields\n",
    "    for prop_name, prop_schema in schema.get(\"properties\", {}).items():\n",
    "        if prop_schema.get(\"type\") == \"array\" and prop_name in config:\n",
    "            value = config[prop_name]\n",
    "\n",
    "            # If it's already a proper list, leave it\n",
    "            if isinstance(value, list) and value and not isinstance(value[0], str):\n",
    "                continue\n",
    "\n",
    "            # If it's a string that looks like a Python list, parse it\n",
    "            if isinstance(value, str):\n",
    "                value = value.strip()\n",
    "                if value.startswith('[') and value.endswith(']'):\n",
    "                    try:\n",
    "                        # Safely evaluate the list string\n",
    "                        import ast\n",
    "                        config[prop_name] = ast.literal_eval(value)\n",
    "                    except (ValueError, SyntaxError):\n",
    "                        # Fall back to comma-separated parsing\n",
    "                        config[prop_name] = [item.strip() for item in value.split(',') if item.strip()]\n",
    "                else:\n",
    "                    # Treat as comma-separated values\n",
    "                    config[prop_name] = [item.strip() for item in value.split(',') if item.strip()]\n",
    "            elif isinstance(value, list):\n",
    "                # If it's a list but contains string representations of lists\n",
    "                if value and isinstance(value[0], str) and value[0].startswith('['):\n",
    "                    # Join the parts and parse as a single list\n",
    "                    joined = ''.join(value)\n",
    "                    try:\n",
    "                        import ast\n",
    "                        config[prop_name] = ast.literal_eval(joined)\n",
    "                    except (ValueError, SyntaxError):\n",
    "                        # Keep as is if parsing fails\n",
    "                        pass\n",
    "            elif not isinstance(value, list):\n",
    "                config[prop_name] = [value]\n",
    "\n",
    "    return config"
   ]
  },
  {
   "cell_type": "code",
   "execution_count": null,
   "id": "1cf8ef97",
   "metadata": {},
   "outputs": [
    {
     "name": "stdout",
     "output_type": "stream",
     "text": [
      "Converted config:\n",
      "  app_title: My App (str)\n",
      "  server_port: 8080 (int)\n",
      "  auto_open_browser: True (bool)\n",
      "  max_upload_size_mb: 250.5 (float)\n",
      "  debug_mode: False (bool)\n",
      "  reload_on_change: False (bool)\n"
     ]
    }
   ],
   "source": [
    "# Example: Convert form data\n",
    "from cjm_fasthtml_settings.core.config import get_app_config_schema\n",
    "\n",
    "schema = get_app_config_schema()\n",
    "\n",
    "# Simulate form data\n",
    "form_data = {\n",
    "    \"app_title\": \"My App\",\n",
    "    \"server_port\": \"8080\",  # String from form\n",
    "    \"auto_open_browser\": \"on\",  # Checkbox value\n",
    "    \"max_upload_size_mb\": \"250.5\",  # String number\n",
    "}\n",
    "\n",
    "config = convert_form_data_to_config(form_data, schema)\n",
    "\n",
    "print(\"Converted config:\")\n",
    "for key, value in config.items():\n",
    "    print(f\"  {key}: {value} ({type(value).__name__})\")"
   ]
  },
  {
   "cell_type": "code",
   "execution_count": null,
   "id": "cae6a124",
   "metadata": {},
   "outputs": [],
   "source": []
  },
  {
   "cell_type": "code",
   "execution_count": null,
   "id": "421ff347",
   "metadata": {},
   "outputs": [],
   "source": []
  },
  {
   "cell_type": "code",
   "execution_count": null,
   "id": "9860c605",
   "metadata": {},
   "outputs": [],
   "source": []
  },
  {
   "cell_type": "code",
   "execution_count": null,
   "id": "2130c38f",
   "metadata": {},
   "outputs": [],
   "source": [
    "#| hide\n",
    "import nbdev; nbdev.nbdev_export()"
   ]
  }
 ],
 "metadata": {
  "kernelspec": {
   "display_name": "python3",
   "language": "python",
   "name": "python3"
  }
 },
 "nbformat": 4,
 "nbformat_minor": 5
}
