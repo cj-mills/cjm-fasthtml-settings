{
 "cells": [
  {
   "cell_type": "markdown",
   "id": "9caeb4bc",
   "metadata": {},
   "source": [
    "# Schemas\n",
    "\n",
    "> Schema registry and management for settings"
   ]
  },
  {
   "cell_type": "code",
   "execution_count": null,
   "id": "f247ab24",
   "metadata": {},
   "outputs": [],
   "source": [
    "#| default_exp core.schemas"
   ]
  },
  {
   "cell_type": "code",
   "execution_count": null,
   "id": "a0104402",
   "metadata": {},
   "outputs": [],
   "source": [
    "#| hide\n",
    "from nbdev.showdoc import *"
   ]
  },
  {
   "cell_type": "code",
   "execution_count": null,
   "id": "f1eac3eb",
   "metadata": {},
   "outputs": [],
   "source": [
    "#| export\n",
    "from pathlib import Path\n",
    "from typing import Dict, Any, Optional"
   ]
  },
  {
   "cell_type": "code",
   "execution_count": null,
   "id": "ad8499c0",
   "metadata": {},
   "outputs": [],
   "source": []
  },
  {
   "cell_type": "code",
   "execution_count": null,
   "id": "58b004eb",
   "metadata": {},
   "outputs": [],
   "source": [
    "#| export\n",
    "class SettingsRegistry:\n",
    "    \"\"\"Registry for managing settings schemas.\n",
    "    \n",
    "    Provides a centralized place to register and access settings schemas.\n",
    "    \"\"\"\n",
    "    \n",
    "    def __init__(self):\n",
    "        self._schemas: Dict[str, Dict[str, Any]] = {}\n",
    "    \n",
    "    def register(\n",
    "        self,\n",
    "        schema: Dict[str, Any],  # JSON Schema to register\n",
    "        name: Optional[str] = None  # Optional name override (uses schema['name'] if not provided)\n",
    "    ):\n",
    "        \"\"\"Register a settings schema.\n",
    "        \n",
    "        The schema must have a 'name' field, or you must provide a name parameter.\n",
    "        \"\"\"\n",
    "        schema_name = name or schema.get('name')\n",
    "        if not schema_name:\n",
    "            raise ValueError(\"Schema must have a 'name' field or name must be provided\")\n",
    "        \n",
    "        self._schemas[schema_name] = schema\n",
    "    \n",
    "    def get(\n",
    "        self,\n",
    "        name: str  # Name of the schema to retrieve\n",
    "    ) -> Optional[Dict[str, Any]]:  # The schema dictionary, or None if not found\n",
    "        \"\"\"Get a registered schema by name.\"\"\"\n",
    "        return self._schemas.get(name)\n",
    "    \n",
    "    def list_schemas(self) -> list:  # List of registered schema names\n",
    "        \"\"\"List all registered schema names.\"\"\"\n",
    "        return list(self._schemas.keys())\n",
    "    \n",
    "    def get_all(self) -> Dict[str, Dict[str, Any]]:  # Dictionary of all schemas\n",
    "        \"\"\"Get all registered schemas.\"\"\"\n",
    "        return self._schemas.copy()"
   ]
  },
  {
   "cell_type": "code",
   "execution_count": null,
   "id": "d5e7d703",
   "metadata": {},
   "outputs": [
    {
     "name": "stdout",
     "output_type": "stream",
     "text": [
      "Registered schemas: ['general', 'custom']\n",
      "\n",
      "General schema title: Application Configuration\n",
      "Custom schema title: Custom Settings\n"
     ]
    }
   ],
   "source": [
    "# Example: Create and use a registry\n",
    "from cjm_fasthtml_settings.core.config import get_app_config_schema\n",
    "\n",
    "registry = SettingsRegistry()\n",
    "\n",
    "# Register the app config schema\n",
    "app_schema = get_app_config_schema(app_title=\"My App\")\n",
    "registry.register(app_schema)\n",
    "\n",
    "# Register a custom schema\n",
    "custom_schema = {\n",
    "    \"name\": \"custom\",\n",
    "    \"title\": \"Custom Settings\",\n",
    "    \"type\": \"object\",\n",
    "    \"properties\": {\n",
    "        \"api_key\": {\n",
    "            \"type\": \"string\",\n",
    "            \"title\": \"API Key\",\n",
    "            \"default\": \"\"\n",
    "        }\n",
    "    }\n",
    "}\n",
    "registry.register(custom_schema)\n",
    "\n",
    "print(f\"Registered schemas: {registry.list_schemas()}\")\n",
    "print(f\"\\nGeneral schema title: {registry.get('general')['title']}\")\n",
    "print(f\"Custom schema title: {registry.get('custom')['title']}\")"
   ]
  },
  {
   "cell_type": "code",
   "execution_count": null,
   "id": "f5d5f0ab",
   "metadata": {},
   "outputs": [],
   "source": []
  },
  {
   "cell_type": "code",
   "execution_count": null,
   "id": "d3a01e87",
   "metadata": {},
   "outputs": [],
   "source": []
  },
  {
   "cell_type": "code",
   "execution_count": null,
   "id": "71d1c444",
   "metadata": {},
   "outputs": [],
   "source": [
    "#| hide\n",
    "import nbdev; nbdev.nbdev_export()"
   ]
  }
 ],
 "metadata": {
  "kernelspec": {
   "display_name": "python3",
   "language": "python",
   "name": "python3"
  }
 },
 "nbformat": 4,
 "nbformat_minor": 5
}
