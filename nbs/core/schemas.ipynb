{
 "cells": [
  {
   "cell_type": "markdown",
   "id": "9caeb4bc",
   "metadata": {},
   "source": [
    "# Schemas\n",
    "\n",
    "> Schema registry and management for settings"
   ]
  },
  {
   "cell_type": "code",
   "execution_count": null,
   "id": "f247ab24",
   "metadata": {},
   "outputs": [],
   "source": [
    "#| default_exp core.schemas"
   ]
  },
  {
   "cell_type": "code",
   "execution_count": null,
   "id": "a0104402",
   "metadata": {},
   "outputs": [],
   "source": [
    "#| hide\n",
    "from nbdev.showdoc import *"
   ]
  },
  {
   "cell_type": "code",
   "execution_count": null,
   "id": "f1eac3eb",
   "metadata": {},
   "outputs": [],
   "source": [
    "#| export\n",
    "from pathlib import Path\n",
    "from typing import Dict, Any, Optional, Union"
   ]
  },
  {
   "cell_type": "code",
   "execution_count": null,
   "id": "ad8499c0",
   "metadata": {},
   "outputs": [],
   "source": []
  },
  {
   "cell_type": "markdown",
   "id": "wn9cbia6xei",
   "metadata": {},
   "source": [
    "Provides a centralized place to register and access settings schemas. Supports both individual schemas and `SchemaGroup` objects for organizing related configurations."
   ]
  },
  {
   "cell_type": "code",
   "execution_count": null,
   "id": "58b004eb",
   "metadata": {},
   "outputs": [],
   "source": [
    "#| export\n",
    "class SettingsRegistry:\n",
    "    \"\"\"Registry for managing settings schemas and schema groups.\"\"\"\n",
    "    \n",
    "    def __init__(self):\n",
    "        self._schemas: Dict[str, Union[Dict[str, Any], 'SchemaGroup']] = {}\n",
    "    \n",
    "    def register(\n",
    "        self,\n",
    "        schema: Union[Dict[str, Any], 'SchemaGroup'],  # Schema or SchemaGroup to register\n",
    "        name: Optional[str] = None  # Optional name override\n",
    "    ):\n",
    "        \"\"\"Register a settings schema or schema group.\"\"\"\n",
    "        # Import here to avoid circular dependency\n",
    "        from cjm_fasthtml_settings.core.schema_group import SchemaGroup\n",
    "        \n",
    "        if isinstance(schema, SchemaGroup):\n",
    "            schema_name = schema.name\n",
    "        else:\n",
    "            schema_name = name or schema.get('name')\n",
    "            if not schema_name:\n",
    "                raise ValueError(\"Schema must have a 'name' field or name must be provided\")\n",
    "        \n",
    "        self._schemas[schema_name] = schema\n",
    "    \n",
    "    def get(\n",
    "        self,\n",
    "        name: str  # Name of the schema/group to retrieve\n",
    "    ) -> Optional[Union[Dict[str, Any], 'SchemaGroup']]:  # The schema/group, or None if not found\n",
    "        \"\"\"Get a registered schema or group by name.\"\"\"\n",
    "        return self._schemas.get(name)\n",
    "    \n",
    "    def list_schemas(\n",
    "        self\n",
    "    ) -> list:  # List of registered schema/group names\n",
    "        \"\"\"List all registered schema and group names.\"\"\"\n",
    "        return list(self._schemas.keys())\n",
    "    \n",
    "    def get_all(\n",
    "        self\n",
    "    ) -> Dict[str, Union[Dict[str, Any], 'SchemaGroup']]:  # All schemas and groups\n",
    "        \"\"\"Get all registered schemas and groups.\"\"\"\n",
    "        return self._schemas.copy()\n",
    "    \n",
    "    def resolve_schema(\n",
    "        self,\n",
    "        id: str  # Schema ID (can be 'name' or 'group_schema' format)\n",
    "    ) -> tuple:  # (schema_dict, error_message)\n",
    "        \"\"\"Resolve a schema ID to a schema dictionary.\"\"\"\n",
    "        from cjm_fasthtml_settings.core.schema_group import SchemaGroup\n",
    "        \n",
    "        # Try direct lookup first\n",
    "        item = self._schemas.get(id)\n",
    "        if item:\n",
    "            if isinstance(item, SchemaGroup):\n",
    "                return None, f\"'{id}' is a group, not a schema. Use 'group_schemaname' format.\"\n",
    "            return item, None\n",
    "        \n",
    "        # Try grouped schema lookup (format: group_schema)\n",
    "        if \"_\" in id:\n",
    "            group_name, schema_key = id.split(\"_\", 1)\n",
    "            group = self._schemas.get(group_name)\n",
    "            \n",
    "            if isinstance(group, SchemaGroup):\n",
    "                schema = group.get_schema(schema_key)\n",
    "                if schema:\n",
    "                    # Add the unique_id to the schema for proper saving\n",
    "                    return {**schema, \"unique_id\": id}, None\n",
    "                else:\n",
    "                    return None, f\"Schema '{schema_key}' not found in group '{group_name}'\"\n",
    "        \n",
    "        return None, f\"Settings '{id}' not found\""
   ]
  },
  {
   "cell_type": "code",
   "execution_count": null,
   "id": "d5e7d703",
   "metadata": {},
   "outputs": [
    {
     "name": "stdout",
     "output_type": "stream",
     "text": [
      "Registered schemas: ['general', 'custom']\n",
      "\n",
      "General schema title: Application Configuration\n",
      "Custom schema title: Custom Settings\n"
     ]
    }
   ],
   "source": [
    "# Example: Create and use a registry\n",
    "from cjm_fasthtml_settings.core.config import get_app_config_schema\n",
    "\n",
    "registry = SettingsRegistry()\n",
    "\n",
    "# Register the app config schema\n",
    "app_schema = get_app_config_schema(app_title=\"My App\")\n",
    "registry.register(app_schema)\n",
    "\n",
    "# Register a custom schema\n",
    "custom_schema = {\n",
    "    \"name\": \"custom\",\n",
    "    \"title\": \"Custom Settings\",\n",
    "    \"type\": \"object\",\n",
    "    \"properties\": {\n",
    "        \"api_key\": {\n",
    "            \"type\": \"string\",\n",
    "            \"title\": \"API Key\",\n",
    "            \"default\": \"\"\n",
    "        }\n",
    "    }\n",
    "}\n",
    "registry.register(custom_schema)\n",
    "\n",
    "print(f\"Registered schemas: {registry.list_schemas()}\")\n",
    "print(f\"\\nGeneral schema title: {registry.get('general')['title']}\")\n",
    "print(f\"Custom schema title: {registry.get('custom')['title']}\")"
   ]
  },
  {
   "cell_type": "code",
   "execution_count": null,
   "id": "f5d5f0ab",
   "metadata": {},
   "outputs": [],
   "source": []
  },
  {
   "cell_type": "code",
   "execution_count": null,
   "id": "euyzr6v8fc5",
   "metadata": {},
   "outputs": [
    {
     "name": "stdout",
     "output_type": "stream",
     "text": [
      "Registered items: ['general', 'media']\n",
      "\n",
      "Direct schema lookup:\n",
      "  'general' -> General Settings\n",
      "\n",
      "Grouped schema lookup:\n",
      "  'media_scanner' -> Scanner Settings\n",
      "  unique_id: media_scanner\n",
      "  'media_player' -> Player Settings\n"
     ]
    }
   ],
   "source": [
    "# Example: Register and use SchemaGroups\n",
    "from cjm_fasthtml_settings.core.schema_group import SchemaGroup\n",
    "\n",
    "registry2 = SettingsRegistry()\n",
    "\n",
    "# Register a simple schema\n",
    "registry2.register({\n",
    "    \"name\": \"general\",\n",
    "    \"title\": \"General Settings\",\n",
    "    \"type\": \"object\",\n",
    "    \"properties\": {\"app_name\": {\"type\": \"string\", \"default\": \"My App\"}}\n",
    "})\n",
    "\n",
    "# Register a schema group\n",
    "media_group = SchemaGroup(\n",
    "    name=\"media\",\n",
    "    title=\"Media Settings\",\n",
    "    schemas={\n",
    "        \"scanner\": {\n",
    "            \"name\": \"scanner\",\n",
    "            \"title\": \"Scanner Settings\",\n",
    "            \"type\": \"object\",\n",
    "            \"properties\": {\"scan_path\": {\"type\": \"string\", \"default\": \"/media\"}}\n",
    "        },\n",
    "        \"player\": {\n",
    "            \"name\": \"player\",\n",
    "            \"title\": \"Player Settings\",\n",
    "            \"type\": \"object\",\n",
    "            \"properties\": {\"volume\": {\"type\": \"integer\", \"default\": 50}}\n",
    "        }\n",
    "    }\n",
    ")\n",
    "registry2.register(media_group)\n",
    "\n",
    "print(f\"Registered items: {registry2.list_schemas()}\")\n",
    "print(f\"\\nDirect schema lookup:\")\n",
    "schema, err = registry2.resolve_schema(\"general\")\n",
    "print(f\"  'general' -> {schema['title'] if schema else err}\")\n",
    "\n",
    "print(f\"\\nGrouped schema lookup:\")\n",
    "schema, err = registry2.resolve_schema(\"media_scanner\")\n",
    "print(f\"  'media_scanner' -> {schema['title'] if schema else err}\")\n",
    "print(f\"  unique_id: {schema.get('unique_id') if schema else 'N/A'}\")\n",
    "\n",
    "schema, err = registry2.resolve_schema(\"media_player\")\n",
    "print(f\"  'media_player' -> {schema['title'] if schema else err}\")"
   ]
  },
  {
   "cell_type": "code",
   "execution_count": null,
   "id": "d3a01e87",
   "metadata": {},
   "outputs": [],
   "source": []
  },
  {
   "cell_type": "code",
   "execution_count": null,
   "id": "ktkffyq9o2n",
   "metadata": {},
   "outputs": [
    {
     "name": "stdout",
     "output_type": "stream",
     "text": [
      "Registered schemas: ['general', 'custom']\n",
      "General schema: Application Configuration\n"
     ]
    }
   ],
   "source": [
    "# Example: Using the module-level registry\n",
    "from cjm_fasthtml_settings.core.schemas import registry as settings_registry\n",
    "from cjm_fasthtml_settings.core.config import get_app_config_schema\n",
    "\n",
    "# Clear for demo (normally you wouldn't do this)\n",
    "settings_registry._schemas = {}\n",
    "\n",
    "# Register schemas\n",
    "settings_registry.register(get_app_config_schema(app_title=\"My App\", include_theme=False))\n",
    "settings_registry.register({\n",
    "    \"name\": \"custom\",\n",
    "    \"title\": \"Custom Settings\",\n",
    "    \"type\": \"object\",\n",
    "    \"properties\": {\"api_key\": {\"type\": \"string\", \"title\": \"API Key\", \"default\": \"\"}}\n",
    "})\n",
    "\n",
    "print(f\"Registered schemas: {settings_registry.list_schemas()}\")\n",
    "print(f\"General schema: {settings_registry.get('general')['title']}\")"
   ]
  },
  {
   "cell_type": "markdown",
   "id": "25f3b143-5054-443c-a33a-7cd930b1e4ea",
   "metadata": {},
   "source": [
    "## Module-Level Registry Instance"
   ]
  },
  {
   "cell_type": "code",
   "execution_count": null,
   "id": "iltj6i7a26",
   "metadata": {},
   "outputs": [],
   "source": [
    "#| export\n",
    "# Module-level registry instance\n",
    "# This is the single source of truth for all settings schemas\n",
    "# Routes and other modules will import and use this instance\n",
    "registry = SettingsRegistry()"
   ]
  },
  {
   "cell_type": "code",
   "execution_count": null,
   "id": "71d1c444",
   "metadata": {},
   "outputs": [],
   "source": [
    "#| hide\n",
    "import nbdev; nbdev.nbdev_export()"
   ]
  }
 ],
 "metadata": {
  "kernelspec": {
   "display_name": "python3",
   "language": "python",
   "name": "python3"
  }
 },
 "nbformat": 4,
 "nbformat_minor": 5
}
