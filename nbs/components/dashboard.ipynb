{
 "cells": [
  {
   "cell_type": "markdown",
   "id": "219893e3",
   "metadata": {},
   "source": [
    "# Dashboard\n",
    "\n",
    "> Settings dashboard layout components"
   ]
  },
  {
   "cell_type": "code",
   "execution_count": null,
   "id": "2b7bb390",
   "metadata": {},
   "outputs": [],
   "source": [
    "#| default_exp components.dashboard"
   ]
  },
  {
   "cell_type": "code",
   "execution_count": null,
   "id": "2aa6cabf",
   "metadata": {},
   "outputs": [],
   "source": [
    "#| hide\n",
    "from nbdev.showdoc import *"
   ]
  },
  {
   "cell_type": "code",
   "execution_count": null,
   "id": "71306ec4",
   "metadata": {},
   "outputs": [],
   "source": [
    "#| export\n",
    "from typing import Dict, Optional\n",
    "from pathlib import Path\n",
    "from fasthtml.common import *\n",
    "from fasthtml.common import FT\n",
    "from cjm_fasthtml_tailwind.utilities.flexbox_and_grid import (\n",
    "    flex_display, gap, flex, items, justify\n",
    ")\n",
    "from cjm_fasthtml_tailwind.utilities.spacing import p, m\n",
    "from cjm_fasthtml_tailwind.utilities.sizing import container, max_w, w, min_h\n",
    "from cjm_fasthtml_tailwind.core.base import combine_classes\n",
    "\n",
    "from cjm_fasthtml_settings.components.sidebar import create_sidebar_menu, create_oob_sidebar_menu\n",
    "from cjm_fasthtml_settings.core.utils import (\n",
    "    load_config,\n",
    "    get_default_values_from_schema,\n",
    ")\n",
    "from cjm_fasthtml_settings.components.forms import create_settings_form_container\n",
    "from cjm_fasthtml_settings.core.html_ids import HtmlIds"
   ]
  },
  {
   "cell_type": "code",
   "execution_count": null,
   "id": "a8244e75",
   "metadata": {},
   "outputs": [],
   "source": []
  },
  {
   "cell_type": "markdown",
   "id": "f5346480",
   "metadata": {},
   "source": [
    "## Form Skeleton"
   ]
  },
  {
   "cell_type": "code",
   "execution_count": null,
   "id": "a72e34dc",
   "metadata": {},
   "outputs": [],
   "source": [
    "#| export\n",
    "def create_form_skeleton(\n",
    "    schema_id: str,  # The schema ID for the settings\n",
    "    hx_get_url: str  # URL to fetch the actual form content\n",
    ") -> Div:  # Div element with loading trigger\n",
    "    \"\"\"Create a loading skeleton for the settings form that loads asynchronously.\n",
    "    \n",
    "    This provides a placeholder that triggers an HTMX request to load the actual form,\n",
    "    improving perceived performance for complex forms.\n",
    "    \"\"\"\n",
    "    return Div(\n",
    "        # Loading spinner centered (could add actual loading UI here)\n",
    "        Div(\n",
    "            cls=combine_classes(\n",
    "                flex_display,\n",
    "                items.center,\n",
    "                justify.center,\n",
    "            )\n",
    "        ),\n",
    "        # HTMX attributes for async loading\n",
    "        hx_get=hx_get_url,\n",
    "        hx_trigger=\"load\",\n",
    "        hx_swap=\"outerHTML\",\n",
    "        id=HtmlIds.SETTINGS_CONTENT,\n",
    "        cls=combine_classes(flex(1), min_h(0))\n",
    "    )"
   ]
  },
  {
   "cell_type": "code",
   "execution_count": null,
   "id": "d7ede1b6",
   "metadata": {},
   "outputs": [],
   "source": []
  },
  {
   "cell_type": "markdown",
   "id": "e8b91f3e",
   "metadata": {},
   "source": [
    "## Render Schema Settings"
   ]
  },
  {
   "cell_type": "code",
   "execution_count": null,
   "id": "983d14f0",
   "metadata": {},
   "outputs": [],
   "source": [
    "#| export\n",
    "def render_schema_settings_content(\n",
    "    schema: Dict,  # JSON schema for the settings\n",
    "    config_dir: Optional[Path] = None  # Config directory path\n",
    ") -> FT:  # Settings form container\n",
    "    \"\"\"Render settings content for a schema-based configuration.\n",
    "    \n",
    "    Args:\n",
    "        schema: The JSON schema to render\n",
    "        config_dir: Directory where configs are stored\n",
    "    \"\"\"\n",
    "    from cjm_fasthtml_settings import routes as settings_rt\n",
    "    \n",
    "    # Get the schema identifier\n",
    "    schema_id = schema.get(\"name\")\n",
    "\n",
    "    # Load existing config or use defaults\n",
    "    saved_config = load_config(schema_id, config_dir)\n",
    "    default_values = get_default_values_from_schema(schema)\n",
    "    values = {**default_values, **saved_config}\n",
    "\n",
    "    return create_settings_form_container(\n",
    "        schema=schema,\n",
    "        values=values,\n",
    "        post_url=settings_rt.save.to(id=schema_id),\n",
    "        reset_url=settings_rt.reset.to(id=schema_id),\n",
    "        use_alert_container=True\n",
    "    )"
   ]
  },
  {
   "cell_type": "code",
   "execution_count": null,
   "id": "6785f42b",
   "metadata": {},
   "outputs": [
    {
     "data": {
      "text/markdown": [
       "```html\n",
       "<div>\n",
       "  <div id=\"alert-container\"></div>\n",
       "<form enctype=\"multipart/form-data\" hx-post=\"/settings/save?id=general\" hx-swap=\"innerHTML\" hx-target=\"#settings-content\">    <div class=\"card bg-base-100 shadow-lg w-full max-w-4xl\">\n",
       "      <div class=\"card-body\">\n",
       "        <h2 class=\"card-title\">Application Configuration</h2>\n",
       "        <div class=\"text-base-content text-sm mb-6\">General application settings and configuration</div>\n",
       "        <div class=\"font-semibold text-base-content mb-3\">Required Fields</div>\n",
       "        <div class=\"mb-4\">\n",
       "<label class=\"label mb-1\"><span class=\"font-medium text-base-content\">App Title</span><span class=\"text-error font-bold\"> *</span></label>          <input type=\"text\" name=\"app_title\" value=\"Test App\" placeholder=\"Default: Test App\" required minlength=\"1\" maxlength=\"100\" id=\"field-app_title\" class=\"input input-md w-full\">\n",
       "          <p class=\"text-sm text-base-content mt-1 mb-2\">Title displayed in the navbar and browser tab</p>\n",
       "        </div>\n",
       "        <div class=\"mb-4\">\n",
       "<label class=\"label mb-1\"><span class=\"font-medium text-base-content\">Config Dir</span><span class=\"text-error font-bold\"> *</span></label>          <input type=\"text\" name=\"config_dir\" value=\"configs\" placeholder=\"Default: configs\" required pattern='^[^&lt;&gt;:\"\\|?*]+$' id=\"field-config_dir\" class=\"input input-md w-full validator\">\n",
       "          <p class=\"text-sm text-base-content mt-1 mb-2\">Directory where configuration files are stored</p>\n",
       "        </div>\n",
       "<hr class=\"my-6\">        <div class=\"font-semibold text-base-content mb-3\">Optional Fields</div>\n",
       "        <div class=\"mb-4\">\n",
       "<label class=\"label flex items-center cursor-pointer\">            <input type=\"checkbox\" name=\"auto_open_browser\" checked id=\"field-auto_open_browser\" class=\"toggle toggle-primary\">\n",
       "<span class=\"font-medium text-base-content ml-2\">Auto Open Browser</span></label>          <p class=\"text-sm text-base-content mt-1 mb-2\">Automatically open browser when starting the application</p>\n",
       "        </div>\n",
       "        <div class=\"mb-4\">\n",
       "<label class=\"label flex items-center cursor-pointer\">            <input type=\"checkbox\" name=\"debug_mode\" id=\"field-debug_mode\" class=\"toggle toggle-primary\">\n",
       "<span class=\"font-medium text-base-content ml-2\">Debug Mode</span></label>          <p class=\"text-sm text-base-content mt-1 mb-2\">Enable debug mode for development</p>\n",
       "        </div>\n",
       "        <div class=\"mb-4\">\n",
       "          <div class=\"w-full\">\n",
       "<label class=\"label mb-1\"><span class=\"font-medium text-base-content\">Max Upload Size Mb</span></label><span class=\"text-xs text-base-content ml-2\">Min: 1 • Max: 10240</span>          </div>\n",
       "          <input type=\"number\" name=\"max_upload_size_mb\" value=\"100\" min=\"1\" max=\"10240\" step=\"any\" id=\"field-max_upload_size_mb\" class=\"input input-md w-full\">\n",
       "          <p class=\"text-sm text-base-content mt-1 mb-2\">Maximum file upload size in megabytes</p>\n",
       "        </div>\n",
       "        <div class=\"mb-4\">\n",
       "<label class=\"label flex items-center cursor-pointer\">            <input type=\"checkbox\" name=\"reload_on_change\" id=\"field-reload_on_change\" class=\"toggle toggle-primary\">\n",
       "<span class=\"font-medium text-base-content ml-2\">Reload On Change</span></label>          <p class=\"text-sm text-base-content mt-1 mb-2\">Automatically reload the application when files change (development only)</p>\n",
       "        </div>\n",
       "        <div class=\"mb-4\">\n",
       "<label class=\"label mb-1\"><span class=\"font-medium text-base-content\">Server Host</span></label><select name=\"server_host\" id=\"field-server_host\" class=\"select select-md w-full\"><option>Select an option...</option><option value=\"0.0.0.0\" selected>0.0.0.0</option><option value=\"127.0.0.1\">127.0.0.1</option><option value=\"localhost\">localhost</option></select>          <p class=\"text-sm text-base-content mt-1 mb-2\">Host address for the web server</p>\n",
       "        </div>\n",
       "        <div class=\"mb-4\">\n",
       "          <div class=\"w-full\">\n",
       "<label class=\"label mb-1\"><span class=\"font-medium text-base-content\">Server Port</span></label><span class=\"text-xs text-base-content ml-2\">Min: 1024 • Max: 65535</span>          </div>\n",
       "          <input type=\"number\" name=\"server_port\" value=\"5000\" min=\"1024\" max=\"65535\" step=\"1\" id=\"field-server_port\" class=\"input input-md w-full\">\n",
       "          <p class=\"text-sm text-base-content mt-1 mb-2\">Port number for the web server</p>\n",
       "        </div>\n",
       "        <div class=\"mb-4\">\n",
       "          <div class=\"w-full\">\n",
       "<label class=\"label mb-1\"><span class=\"font-medium text-base-content\">Session Timeout Minutes</span></label><span class=\"text-xs text-base-content ml-2\">Min: 0 • Max: 1440</span>          </div>\n",
       "          <input type=\"number\" name=\"session_timeout_minutes\" value=\"60\" min=\"0\" max=\"1440\" step=\"1\" id=\"field-session_timeout_minutes\" class=\"input input-md w-full\">\n",
       "          <p class=\"text-sm text-base-content mt-1 mb-2\">Session timeout in minutes (0 for no timeout)</p>\n",
       "        </div>\n",
       "      </div>\n",
       "    </div>\n",
       "    <div class=\"card-actions mt-6 border-base-300\">\n",
       "<button type=\"submit\" class=\"btn btn-primary\">Save Configuration</button><button type=\"button\" hx-get=\"/settings/reset?id=general\" hx-swap=\"innerHTML\" hx-target=\"#settings-content\" class=\"btn btn-ghost ml-2\">Reset to Defaults</button>    </div>\n",
       "</form></div>\n",
       "\n",
       "```"
      ],
      "text/plain": [
       "div((div((),{'id': 'alert-container'}), form((div((div((h2(('Application Configuration',),{'class': 'card-title'}), div(('General application settings and configuration',),{'class': 'text-base-content text-sm mb-6'}), div(('Required Fields',),{'class': 'font-semibold text-base-content mb-3'}), div((label((span(('App Title',),{'class': 'font-medium text-base-content'}), span((' *',),{'class': 'text-error font-bold'})),{'class': 'label mb-1'}), input((),{'type': 'text', 'name': 'app_title', 'value': 'Test App', 'placeholder': 'Default: Test App', 'required': True, 'minlength': 1, 'maxlength': 100, 'id': 'field-app_title', 'class': 'input input-md w-full'}), p(('Title displayed in the navbar and browser tab',),{'class': 'text-sm text-base-content mt-1 mb-2'})),{'class': 'mb-4'}), div((label((span(('Config Dir',),{'class': 'font-medium text-base-content'}), span((' *',),{'class': 'text-error font-bold'})),{'class': 'label mb-1'}), input((),{'type': 'text', 'name': 'config_dir', 'value': 'configs', 'placeholder': 'Default: configs', 'required': True, 'pattern': '^[^<>:\"\\\\|?*]+$', 'id': 'field-config_dir', 'class': 'input input-md w-full validator'}), p(('Directory where configuration files are stored',),{'class': 'text-sm text-base-content mt-1 mb-2'})),{'class': 'mb-4'}), hr((),{'class': 'my-6'}), div(('Optional Fields',),{'class': 'font-semibold text-base-content mb-3'}), div((label((input((),{'type': 'checkbox', 'name': 'auto_open_browser', 'checked': True, 'id': 'field-auto_open_browser', 'class': 'toggle toggle-primary'}), span(('Auto Open Browser',),{'class': 'font-medium text-base-content ml-2'})),{'class': 'label flex items-center cursor-pointer'}), p(('Automatically open browser when starting the application',),{'class': 'text-sm text-base-content mt-1 mb-2'})),{'class': 'mb-4'}), div((label((input((),{'type': 'checkbox', 'name': 'debug_mode', 'id': 'field-debug_mode', 'class': 'toggle toggle-primary'}), span(('Debug Mode',),{'class': 'font-medium text-base-content ml-2'})),{'class': 'label flex items-center cursor-pointer'}), p(('Enable debug mode for development',),{'class': 'text-sm text-base-content mt-1 mb-2'})),{'class': 'mb-4'}), div((div((label((span(('Max Upload Size Mb',),{'class': 'font-medium text-base-content'}),),{'class': 'label mb-1'}), span(('Min: 1 • Max: 10240',),{'class': 'text-xs text-base-content ml-2'})),{'class': 'w-full'}), input((),{'type': 'number', 'name': 'max_upload_size_mb', 'value': '100', 'min': '1', 'max': '10240', 'step': 'any', 'id': 'field-max_upload_size_mb', 'class': 'input input-md w-full'}), p(('Maximum file upload size in megabytes',),{'class': 'text-sm text-base-content mt-1 mb-2'})),{'class': 'mb-4'}), div((label((input((),{'type': 'checkbox', 'name': 'reload_on_change', 'id': 'field-reload_on_change', 'class': 'toggle toggle-primary'}), span(('Reload On Change',),{'class': 'font-medium text-base-content ml-2'})),{'class': 'label flex items-center cursor-pointer'}), p(('Automatically reload the application when files change (development only)',),{'class': 'text-sm text-base-content mt-1 mb-2'})),{'class': 'mb-4'}), div((label((span(('Server Host',),{'class': 'font-medium text-base-content'}),),{'class': 'label mb-1'}), select((option(('Select an option...',),{'value': '', 'selected': False}), option(('0.0.0.0',),{'value': '0.0.0.0', 'selected': True}), option(('127.0.0.1',),{'value': '127.0.0.1', 'selected': False}), option(('localhost',),{'value': 'localhost', 'selected': False})),{'name': 'server_host', 'id': 'field-server_host', 'class': 'select select-md w-full'}), p(('Host address for the web server',),{'class': 'text-sm text-base-content mt-1 mb-2'})),{'class': 'mb-4'}), div((div((label((span(('Server Port',),{'class': 'font-medium text-base-content'}),),{'class': 'label mb-1'}), span(('Min: 1024 • Max: 65535',),{'class': 'text-xs text-base-content ml-2'})),{'class': 'w-full'}), input((),{'type': 'number', 'name': 'server_port', 'value': '5000', 'min': '1024', 'max': '65535', 'step': '1', 'id': 'field-server_port', 'class': 'input input-md w-full'}), p(('Port number for the web server',),{'class': 'text-sm text-base-content mt-1 mb-2'})),{'class': 'mb-4'}), div((div((label((span(('Session Timeout Minutes',),{'class': 'font-medium text-base-content'}),),{'class': 'label mb-1'}), span(('Min: 0 • Max: 1440',),{'class': 'text-xs text-base-content ml-2'})),{'class': 'w-full'}), input((),{'type': 'number', 'name': 'session_timeout_minutes', 'value': '60', 'min': '0', 'max': '1440', 'step': '1', 'id': 'field-session_timeout_minutes', 'class': 'input input-md w-full'}), p(('Session timeout in minutes (0 for no timeout)',),{'class': 'text-sm text-base-content mt-1 mb-2'})),{'class': 'mb-4'})),{'class': 'card-body'}),),{'class': 'card bg-base-100 shadow-lg w-full max-w-4xl'}), div((button(('Save Configuration',),{'type': 'submit', 'class': 'btn btn-primary'}), button(('Reset to Defaults',),{'type': 'button', 'hx-get': '/settings/reset?id=general', 'hx-swap': 'innerHTML', 'hx-target': '#settings-content', 'class': 'btn btn-ghost ml-2'})),{'class': 'card-actions mt-6 border-base-300'})),{'enctype': 'multipart/form-data', 'hx-post': '/settings/save?id=general', 'hx-swap': 'innerHTML', 'hx-target': '#settings-content'})),{})"
      ]
     },
     "execution_count": null,
     "metadata": {},
     "output_type": "execute_result"
    }
   ],
   "source": [
    "# Example: Render schema settings\n",
    "from cjm_fasthtml_settings.core.config import get_app_config_schema\n",
    "\n",
    "schema = get_app_config_schema(app_title=\"Test App\", include_theme=False)\n",
    "content = render_schema_settings_content(schema=schema)\n",
    "\n",
    "content"
   ]
  },
  {
   "cell_type": "code",
   "execution_count": null,
   "id": "ffcba702",
   "metadata": {},
   "outputs": [],
   "source": []
  },
  {
   "cell_type": "markdown",
   "id": "5bc460cd",
   "metadata": {},
   "source": [
    "## Settings Content (Full Layout)"
   ]
  },
  {
   "cell_type": "code",
   "execution_count": null,
   "id": "05ee7e11",
   "metadata": {},
   "outputs": [],
   "source": [
    "#| export\n",
    "def settings_content(\n",
    "    request,  # FastHTML request object\n",
    "    schema: Dict,  # Schema to display\n",
    "    schemas: Dict,  # All registered schemas for sidebar\n",
    "    config_dir: Optional[Path] = None,  # Config directory\n",
    "    menu_section_title: str = \"Settings\"  # Sidebar section title\n",
    ") -> Div:  # Settings content layout\n",
    "    \"\"\"Return settings content with sidebar and form.\n",
    "    \n",
    "    Handles both full page loads and HTMX partial updates.\n",
    "    \n",
    "    Args:\n",
    "        request: The request object (to check for HTMX)\n",
    "        schema: The schema to display\n",
    "        schemas: All available schemas for the sidebar\n",
    "        config_dir: Config directory path\n",
    "        menu_section_title: Title for the sidebar menu section\n",
    "    \"\"\"\n",
    "    from cjm_fasthtml_settings import routes as settings_rt\n",
    "    \n",
    "    # Get the schema identifier\n",
    "    schema_id = schema.get(\"name\")\n",
    "\n",
    "    # Return content with updated sidebar menu via OOB swap if HTMX request to content area\n",
    "    if request.headers.get('HX-Request') and request.headers.get('HX-Target') == HtmlIds.SETTINGS_CONTENT:\n",
    "        updated_menu = create_oob_sidebar_menu(\n",
    "            schemas=schemas,\n",
    "            active_schema=schema_id,\n",
    "            config_dir=config_dir,\n",
    "            menu_section_title=menu_section_title\n",
    "        )\n",
    "        return Div(\n",
    "            render_schema_settings_content(schema, config_dir),\n",
    "            updated_menu\n",
    "        )\n",
    "\n",
    "    # Return full settings layout with immediate sidebar and async form\n",
    "    return Div(\n",
    "        # Sidebar - loads immediately\n",
    "        Div(\n",
    "            create_sidebar_menu(\n",
    "                schemas=schemas,\n",
    "                active_schema=schema_id,\n",
    "                config_dir=config_dir,\n",
    "                include_wrapper=True,\n",
    "                menu_section_title=menu_section_title\n",
    "            ),\n",
    "            id=HtmlIds.SETTINGS_SIDEBAR,\n",
    "            cls=combine_classes(w(64), flex.shrink_0)\n",
    "        ),\n",
    "\n",
    "        # Form skeleton - loads asynchronously\n",
    "        create_form_skeleton(\n",
    "            schema_id=schema_id,\n",
    "            hx_get_url=settings_rt.load_form.to(id=schema_id)\n",
    "        ),\n",
    "\n",
    "        cls=combine_classes(\n",
    "            flex_display,\n",
    "            gap(6),\n",
    "            container,\n",
    "            max_w._7xl,\n",
    "            m.x.auto,\n",
    "            p(6)\n",
    "        )\n",
    "    )"
   ]
  },
  {
   "cell_type": "code",
   "execution_count": null,
   "id": "60a62343",
   "metadata": {},
   "outputs": [],
   "source": []
  },
  {
   "cell_type": "code",
   "execution_count": null,
   "id": "2866a61b",
   "metadata": {},
   "outputs": [],
   "source": []
  },
  {
   "cell_type": "code",
   "execution_count": null,
   "id": "f311ba02",
   "metadata": {},
   "outputs": [],
   "source": [
    "#| hide\n",
    "import nbdev; nbdev.nbdev_export()"
   ]
  }
 ],
 "metadata": {
  "kernelspec": {
   "display_name": "python3",
   "language": "python",
   "name": "python3"
  }
 },
 "nbformat": 4,
 "nbformat_minor": 5
}
