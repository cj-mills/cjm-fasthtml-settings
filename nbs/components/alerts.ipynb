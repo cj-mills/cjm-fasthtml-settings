{
 "cells": [
  {
   "cell_type": "markdown",
   "id": "3d8e0af2",
   "metadata": {},
   "source": [
    "# Alerts\n",
    "\n",
    "> Alert components for displaying success, error, and warning messages"
   ]
  },
  {
   "cell_type": "code",
   "execution_count": null,
   "id": "39deb2a2",
   "metadata": {},
   "outputs": [],
   "source": [
    "#| default_exp components.alerts"
   ]
  },
  {
   "cell_type": "code",
   "execution_count": null,
   "id": "62c405eb",
   "metadata": {},
   "outputs": [],
   "source": [
    "#| hide\n",
    "from nbdev.showdoc import *"
   ]
  },
  {
   "cell_type": "code",
   "execution_count": null,
   "id": "b81dd479",
   "metadata": {},
   "outputs": [],
   "source": [
    "#| export\n",
    "from pathlib import Path\n",
    "from typing import Dict, Any, Optional\n",
    "from fasthtml.common import *\n",
    "from fasthtml.svg import Svg, Path as SvgPath\n",
    "from cjm_fasthtml_daisyui.components.feedback.alert import alert, alert_colors\n",
    "from cjm_fasthtml_daisyui.utilities.semantic_colors import stroke_dui, text_dui\n",
    "from cjm_fasthtml_tailwind.utilities.effects import shadow\n",
    "from cjm_fasthtml_tailwind.utilities.spacing import m\n",
    "from cjm_fasthtml_tailwind.utilities.sizing import w, h\n",
    "from cjm_fasthtml_tailwind.utilities.typography import font_size\n",
    "from cjm_fasthtml_tailwind.core.base import combine_classes\n",
    "\n",
    "from cjm_fasthtml_settings.core.html_ids import HtmlIds"
   ]
  },
  {
   "cell_type": "code",
   "execution_count": null,
   "id": "b338ccf5",
   "metadata": {},
   "outputs": [],
   "source": []
  },
  {
   "cell_type": "markdown",
   "id": "b97e19f5",
   "metadata": {},
   "source": [
    "## Auto-Dismiss Script"
   ]
  },
  {
   "cell_type": "code",
   "execution_count": null,
   "id": "d31a3f74",
   "metadata": {},
   "outputs": [],
   "source": [
    "#| export\n",
    "def _create_auto_dismiss_script(\n",
    "    timeout_ms: int = 3000  # Time in milliseconds before auto-dismiss\n",
    ") -> Script:  # Script element for auto-dismissing alerts\n",
    "    \"\"\"Create a script that auto-dismisses the alert after a timeout.\"\"\"\n",
    "    return Script(f\"\"\"\n",
    "        // Clear any existing timeout\n",
    "        if (window.alertTimeout) {{\n",
    "            clearTimeout(window.alertTimeout);\n",
    "            clearTimeout(window.alertFadeTimeout);\n",
    "        }}\n",
    "\n",
    "        // Remove any existing alert immediately\n",
    "        var existingAlert = document.getElementById('{HtmlIds.ALERT_CONTAINER}');\n",
    "        if (existingAlert && existingAlert !== document.currentScript.parentElement) {{\n",
    "            existingAlert.remove();\n",
    "        }}\n",
    "\n",
    "        // Set new timeout for this alert\n",
    "        window.alertTimeout = setTimeout(function() {{\n",
    "            var alertEl = document.getElementById('{HtmlIds.ALERT_CONTAINER}');\n",
    "            if (alertEl) {{\n",
    "                alertEl.style.transition = 'opacity 0.5s';\n",
    "                alertEl.style.opacity = '0';\n",
    "                window.alertFadeTimeout = setTimeout(function() {{\n",
    "                    if (alertEl) {{\n",
    "                        alertEl.remove();\n",
    "                    }}\n",
    "                }}, 500);\n",
    "            }}\n",
    "        }}, {timeout_ms});\n",
    "    \"\"\")"
   ]
  },
  {
   "cell_type": "code",
   "execution_count": null,
   "id": "415aeaf5",
   "metadata": {},
   "outputs": [],
   "source": []
  },
  {
   "cell_type": "markdown",
   "id": "f25c19f8",
   "metadata": {},
   "source": [
    "## Success Alert"
   ]
  },
  {
   "cell_type": "code",
   "execution_count": null,
   "id": "416e9e1b",
   "metadata": {},
   "outputs": [],
   "source": [
    "#| export\n",
    "def create_success_alert(\n",
    "    message: str,  # The success message to display\n",
    "    timeout_ms: int = 3000  # Time in milliseconds before auto-dismiss\n",
    ") -> Div:  # Div element containing the success alert\n",
    "    \"\"\"Create a success alert that auto-dismisses.\"\"\"\n",
    "    return Div(\n",
    "        Div(\n",
    "            Svg(\n",
    "                SvgPath(\n",
    "                    stroke_linecap=\"round\",\n",
    "                    stroke_linejoin=\"round\",\n",
    "                    stroke_width=\"2\",\n",
    "                    d=\"M9 12l2 2 4-4m6 2a9 9 0 11-18 0 9 9 0 0118 0z\"\n",
    "                ),\n",
    "                xmlns=\"http://www.w3.org/2000/svg\",\n",
    "                fill=\"none\",\n",
    "                viewBox=\"0 0 24 24\",\n",
    "                cls=combine_classes(w(6), h(6), stroke_dui.success_content)\n",
    "            ),\n",
    "            Span(message),\n",
    "            cls=combine_classes(\n",
    "                alert,\n",
    "                alert_colors.success,\n",
    "                shadow.md,\n",
    "                m.b(4)\n",
    "            )\n",
    "        ),\n",
    "        _create_auto_dismiss_script(timeout_ms),\n",
    "        id=HtmlIds.ALERT_CONTAINER\n",
    "    )"
   ]
  },
  {
   "cell_type": "code",
   "execution_count": null,
   "id": "cac8dfe6",
   "metadata": {},
   "outputs": [
    {
     "data": {
      "text/markdown": [
       "```html\n",
       "<div id=\"alert-container\">\n",
       "  <div class=\"alert alert-success shadow-md mb-4\">\n",
       "<svg xmlns=\"http://www.w3.org/2000/svg\" viewbox=\"0 0 24 24\" fill=\"none\" class=\"w-6 h-6 stroke-success-content\"><path d=\"M9 12l2 2 4-4m6 2a9 9 0 11-18 0 9 9 0 0118 0z\" stroke-width=\"2\" stroke-linecap=\"round\" stroke-linejoin=\"round\"></path></svg><span>Configuration saved successfully!</span>  </div>\n",
       "<script>\n",
       "        // Clear any existing timeout\n",
       "        if (window.alertTimeout) {\n",
       "            clearTimeout(window.alertTimeout);\n",
       "            clearTimeout(window.alertFadeTimeout);\n",
       "        }\n",
       "\n",
       "        // Remove any existing alert immediately\n",
       "        var existingAlert = document.getElementById('alert-container');\n",
       "        if (existingAlert && existingAlert !== document.currentScript.parentElement) {\n",
       "            existingAlert.remove();\n",
       "        }\n",
       "\n",
       "        // Set new timeout for this alert\n",
       "        window.alertTimeout = setTimeout(function() {\n",
       "            var alertEl = document.getElementById('alert-container');\n",
       "            if (alertEl) {\n",
       "                alertEl.style.transition = 'opacity 0.5s';\n",
       "                alertEl.style.opacity = '0';\n",
       "                window.alertFadeTimeout = setTimeout(function() {\n",
       "                    if (alertEl) {\n",
       "                        alertEl.remove();\n",
       "                    }\n",
       "                }, 500);\n",
       "            }\n",
       "        }, 3000);\n",
       "    </script></div>\n",
       "\n",
       "```"
      ],
      "text/plain": [
       "div((div((svg((path((),{'d': 'M9 12l2 2 4-4m6 2a9 9 0 11-18 0 9 9 0 0118 0z', 'stroke-width': '2', 'stroke-linecap': 'round', 'stroke-linejoin': 'round'}),),{'xmlns': 'http://www.w3.org/2000/svg', 'viewbox': '0 0 24 24', 'fill': 'none', 'class': 'w-6 h-6 stroke-success-content'}), span(('Configuration saved successfully!',),{})),{'class': 'alert alert-success shadow-md mb-4'}), script((\"\\n        // Clear any existing timeout\\n        if (window.alertTimeout) {\\n            clearTimeout(window.alertTimeout);\\n            clearTimeout(window.alertFadeTimeout);\\n        }\\n\\n        // Remove any existing alert immediately\\n        var existingAlert = document.getElementById('alert-container');\\n        if (existingAlert && existingAlert !== document.currentScript.parentElement) {\\n            existingAlert.remove();\\n        }\\n\\n        // Set new timeout for this alert\\n        window.alertTimeout = setTimeout(function() {\\n            var alertEl = document.getElementById('alert-container');\\n            if (alertEl) {\\n                alertEl.style.transition = 'opacity 0.5s';\\n                alertEl.style.opacity = '0';\\n                window.alertFadeTimeout = setTimeout(function() {\\n                    if (alertEl) {\\n                        alertEl.remove();\\n                    }\\n                }, 500);\\n            }\\n        }, 3000);\\n    \",),{})),{'id': 'alert-container'})"
      ]
     },
     "execution_count": null,
     "metadata": {},
     "output_type": "execute_result"
    }
   ],
   "source": [
    "# Example: Create a success alert\n",
    "create_success_alert(\"Configuration saved successfully!\")"
   ]
  },
  {
   "cell_type": "code",
   "execution_count": null,
   "id": "ca1935cf",
   "metadata": {},
   "outputs": [],
   "source": []
  },
  {
   "cell_type": "markdown",
   "id": "bf03c99e",
   "metadata": {},
   "source": [
    "## Error Alert"
   ]
  },
  {
   "cell_type": "code",
   "execution_count": null,
   "id": "42a33f6a",
   "metadata": {},
   "outputs": [],
   "source": [
    "#| export\n",
    "def create_error_alert(\n",
    "    message: str,  # The error message to display\n",
    "    details: Optional[str] = None  # Optional additional details text\n",
    ") -> Div:  # Div element containing the error alert\n",
    "    \"\"\"Create an error alert with optional details.\"\"\"\n",
    "    content = [\n",
    "        Svg(\n",
    "            SvgPath(\n",
    "                stroke_linecap=\"round\",\n",
    "                stroke_linejoin=\"round\",\n",
    "                stroke_width=\"2\",\n",
    "                d=\"M10 14l2-2m0 0l2-2m-2 2l-2-2m2 2l2 2m7-2a9 9 0 11-18 0 9 9 0 0118 0z\"\n",
    "            ),\n",
    "            xmlns=\"http://www.w3.org/2000/svg\",\n",
    "            fill=\"none\",\n",
    "            viewBox=\"0 0 24 24\",\n",
    "            cls=combine_classes(w(6), h(6), stroke_dui.error_content)\n",
    "        ),\n",
    "        Span(message)\n",
    "    ]\n",
    "\n",
    "    if details:\n",
    "        content.append(\n",
    "            Span(details, cls=combine_classes(font_size.sm, text_dui.base_content.opacity(60)))\n",
    "        )\n",
    "\n",
    "    return Div(\n",
    "        Div(\n",
    "            *content,\n",
    "            cls=combine_classes(\n",
    "                alert,\n",
    "                alert_colors.error,\n",
    "                shadow.md,\n",
    "                m.b(4)\n",
    "            )\n",
    "        ),\n",
    "        id=HtmlIds.ALERT_CONTAINER\n",
    "    )"
   ]
  },
  {
   "cell_type": "code",
   "execution_count": null,
   "id": "a310712f",
   "metadata": {},
   "outputs": [
    {
     "data": {
      "text/markdown": [
       "```html\n",
       "<div id=\"alert-container\">\n",
       "  <div class=\"alert alert-error shadow-md mb-4\">\n",
       "<svg xmlns=\"http://www.w3.org/2000/svg\" viewbox=\"0 0 24 24\" fill=\"none\" class=\"w-6 h-6 stroke-error-content\"><path d=\"M10 14l2-2m0 0l2-2m-2 2l-2-2m2 2l2 2m7-2a9 9 0 11-18 0 9 9 0 0118 0z\" stroke-width=\"2\" stroke-linecap=\"round\" stroke-linejoin=\"round\"></path></svg><span>Failed to save configuration</span><span class=\"text-sm text-base-content/60\">Invalid port number</span>  </div>\n",
       "</div>\n",
       "\n",
       "```"
      ],
      "text/plain": [
       "div((div((svg((path((),{'d': 'M10 14l2-2m0 0l2-2m-2 2l-2-2m2 2l2 2m7-2a9 9 0 11-18 0 9 9 0 0118 0z', 'stroke-width': '2', 'stroke-linecap': 'round', 'stroke-linejoin': 'round'}),),{'xmlns': 'http://www.w3.org/2000/svg', 'viewbox': '0 0 24 24', 'fill': 'none', 'class': 'w-6 h-6 stroke-error-content'}), span(('Failed to save configuration',),{}), span(('Invalid port number',),{'class': 'text-sm text-base-content/60'})),{'class': 'alert alert-error shadow-md mb-4'}),),{'id': 'alert-container'})"
      ]
     },
     "execution_count": null,
     "metadata": {},
     "output_type": "execute_result"
    }
   ],
   "source": [
    "# Example: Create an error alert\n",
    "create_error_alert(\"Failed to save configuration\", \"Invalid port number\")"
   ]
  },
  {
   "cell_type": "code",
   "execution_count": null,
   "id": "3054a72f",
   "metadata": {},
   "outputs": [],
   "source": []
  },
  {
   "cell_type": "markdown",
   "id": "34483c79",
   "metadata": {},
   "source": [
    "## Warning Alert"
   ]
  },
  {
   "cell_type": "code",
   "execution_count": null,
   "id": "080b24ed",
   "metadata": {},
   "outputs": [],
   "source": [
    "#| export\n",
    "def create_warning_alert(\n",
    "    message: str,  # The warning message to display\n",
    "    details: Optional[str] = None  # Optional additional details text\n",
    ") -> Div:  # Div element containing the warning alert\n",
    "    \"\"\"Create a warning alert with optional details.\"\"\"\n",
    "    content = [\n",
    "        Svg(\n",
    "            SvgPath(\n",
    "                stroke_linecap=\"round\",\n",
    "                stroke_linejoin=\"round\",\n",
    "                stroke_width=\"2\",\n",
    "                d=\"M12 9v2m0 4h.01m-6.938 4h13.856c1.54 0 2.502-1.667 1.732-3L13.732 4c-.77-1.333-2.694-1.333-3.464 0L3.34 16c-.77 1.333.192 3 1.732 3z\"\n",
    "            ),\n",
    "            xmlns=\"http://www.w3.org/2000/svg\",\n",
    "            fill=\"none\",\n",
    "            viewBox=\"0 0 24 24\",\n",
    "            cls=combine_classes(w(6), h(6), stroke_dui.warning_content)\n",
    "        ),\n",
    "        Span(message)\n",
    "    ]\n",
    "\n",
    "    if details:\n",
    "        content.append(\n",
    "            Span(details, cls=combine_classes(font_size.sm, text_dui.base_content.opacity(60)))\n",
    "        )\n",
    "\n",
    "    return Div(\n",
    "        Div(\n",
    "            *content,\n",
    "            cls=combine_classes(\n",
    "                alert,\n",
    "                alert_colors.warning,\n",
    "                shadow.md,\n",
    "                m.b(4)\n",
    "            )\n",
    "        ),\n",
    "        id=HtmlIds.ALERT_CONTAINER\n",
    "    )"
   ]
  },
  {
   "cell_type": "code",
   "execution_count": null,
   "id": "25a953bd",
   "metadata": {},
   "outputs": [
    {
     "data": {
      "text/markdown": [
       "```html\n",
       "<div id=\"alert-container\">\n",
       "  <div class=\"alert alert-warning shadow-md mb-4\">\n",
       "<svg xmlns=\"http://www.w3.org/2000/svg\" viewbox=\"0 0 24 24\" fill=\"none\" class=\"w-6 h-6 stroke-warning-content\"><path d=\"M12 9v2m0 4h.01m-6.938 4h13.856c1.54 0 2.502-1.667 1.732-3L13.732 4c-.77-1.333-2.694-1.333-3.464 0L3.34 16c-.77 1.333.192 3 1.732 3z\" stroke-width=\"2\" stroke-linecap=\"round\" stroke-linejoin=\"round\"></path></svg><span>Configuration incomplete</span><span class=\"text-sm text-base-content/60\">Some optional fields are empty</span>  </div>\n",
       "</div>\n",
       "\n",
       "```"
      ],
      "text/plain": [
       "div((div((svg((path((),{'d': 'M12 9v2m0 4h.01m-6.938 4h13.856c1.54 0 2.502-1.667 1.732-3L13.732 4c-.77-1.333-2.694-1.333-3.464 0L3.34 16c-.77 1.333.192 3 1.732 3z', 'stroke-width': '2', 'stroke-linecap': 'round', 'stroke-linejoin': 'round'}),),{'xmlns': 'http://www.w3.org/2000/svg', 'viewbox': '0 0 24 24', 'fill': 'none', 'class': 'w-6 h-6 stroke-warning-content'}), span(('Configuration incomplete',),{}), span(('Some optional fields are empty',),{'class': 'text-sm text-base-content/60'})),{'class': 'alert alert-warning shadow-md mb-4'}),),{'id': 'alert-container'})"
      ]
     },
     "execution_count": null,
     "metadata": {},
     "output_type": "execute_result"
    }
   ],
   "source": [
    "# Example: Create a warning alert\n",
    "create_warning_alert(\"Configuration incomplete\", \"Some optional fields are empty\")"
   ]
  },
  {
   "cell_type": "code",
   "execution_count": null,
   "id": "473e10b8",
   "metadata": {},
   "outputs": [],
   "source": []
  },
  {
   "cell_type": "code",
   "execution_count": null,
   "id": "da7a909e",
   "metadata": {},
   "outputs": [],
   "source": []
  },
  {
   "cell_type": "code",
   "execution_count": null,
   "id": "042709e3",
   "metadata": {},
   "outputs": [],
   "source": [
    "#| hide\n",
    "import nbdev; nbdev.nbdev_export()"
   ]
  }
 ],
 "metadata": {
  "kernelspec": {
   "display_name": "python3",
   "language": "python",
   "name": "python3"
  }
 },
 "nbformat": 4,
 "nbformat_minor": 5
}
