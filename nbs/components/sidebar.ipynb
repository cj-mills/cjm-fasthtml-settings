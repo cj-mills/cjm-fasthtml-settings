{
 "cells": [
  {
   "cell_type": "markdown",
   "id": "5270f6a2",
   "metadata": {},
   "source": [
    "# Sidebar\n",
    "\n",
    "> Navigation menu components for settings sidebar"
   ]
  },
  {
   "cell_type": "code",
   "execution_count": null,
   "id": "3e5ab61d",
   "metadata": {},
   "outputs": [],
   "source": [
    "#| default_exp components.sidebar"
   ]
  },
  {
   "cell_type": "code",
   "execution_count": null,
   "id": "f5ee5fb2",
   "metadata": {},
   "outputs": [],
   "source": [
    "#| hide\n",
    "from nbdev.showdoc import *"
   ]
  },
  {
   "cell_type": "code",
   "execution_count": null,
   "id": "b533ef5a",
   "metadata": {},
   "outputs": [],
   "source": [
    "#| export\n",
    "import json\n",
    "from pathlib import Path\n",
    "from typing import Dict, Any, Optional, List\n",
    "from fasthtml.common import *\n",
    "from cjm_fasthtml_daisyui.components.navigation.menu import menu, menu_title, menu_modifiers\n",
    "from cjm_fasthtml_daisyui.components.layout.divider import divider\n",
    "from cjm_fasthtml_daisyui.components.data_display.badge import badge, badge_colors, badge_sizes\n",
    "from cjm_fasthtml_daisyui.utilities.semantic_colors import bg_dui\n",
    "from cjm_fasthtml_daisyui.utilities.border_radius import border_radius\n",
    "from cjm_fasthtml_tailwind.utilities.flexbox_and_grid import (\n",
    "    flex_display, items, justify\n",
    ")\n",
    "from cjm_fasthtml_tailwind.utilities.spacing import p, m\n",
    "from cjm_fasthtml_tailwind.utilities.sizing import  w, h, min_h\n",
    "from cjm_fasthtml_tailwind.utilities.typography import font_weight\n",
    "from cjm_fasthtml_tailwind.utilities.layout import position, top\n",
    "from cjm_fasthtml_tailwind.core.base import combine_classes\n",
    "from cjm_fasthtml_tailwind.utilities.transitions_and_animation import transition, duration\n",
    "\n",
    "from cjm_fasthtml_settings.core.html_ids import HtmlIds"
   ]
  },
  {
   "cell_type": "code",
   "execution_count": null,
   "id": "1c6bfb69",
   "metadata": {},
   "outputs": [],
   "source": []
  },
  {
   "cell_type": "markdown",
   "id": "51c2c7bb",
   "metadata": {},
   "source": [
    "## Sidebar Menu Creation"
   ]
  },
  {
   "cell_type": "code",
   "execution_count": null,
   "id": "1144b837",
   "metadata": {},
   "outputs": [],
   "source": [
    "#| export\n",
    "def create_sidebar_menu(\n",
    "    schemas: Dict[str, Dict[str, Any]],  # Dictionary of schemas to display in sidebar\n",
    "    active_schema: Optional[str] = None,  # The currently active schema name\n",
    "    config_dir: Optional[Path] = None,  # Directory where config files are stored\n",
    "    include_wrapper: bool = True,  # Whether to include the outer wrapper div\n",
    "    menu_section_title: str = \"Settings\"  # Title for the settings section\n",
    ") -> Div:  # Div or Ul element containing the sidebar menu\n",
    "    \"\"\"Create the sidebar navigation menu.\n",
    "    \n",
    "    Args:\n",
    "        schemas: Dictionary mapping schema names to schema objects\n",
    "        active_schema: Name of the currently active schema\n",
    "        config_dir: Path to config directory (uses DEFAULT_CONFIG_DIR if None)\n",
    "        include_wrapper: If False, returns just the Ul for OOB swaps\n",
    "        menu_section_title: Title to display for the menu section\n",
    "    \n",
    "    Returns:\n",
    "        Sidebar menu component\n",
    "    \"\"\"\n",
    "    from cjm_fasthtml_settings import routes as settings_rt\n",
    "    \n",
    "    if config_dir is None:\n",
    "        from cjm_fasthtml_settings.core.config import DEFAULT_CONFIG_DIR\n",
    "        config_dir = DEFAULT_CONFIG_DIR\n",
    "        \n",
    "    menu_items = []\n",
    "\n",
    "    # Add menu section title\n",
    "    menu_items.append(\n",
    "        Li(\n",
    "            Span(menu_section_title, cls=str(menu_title))\n",
    "        )\n",
    "    )\n",
    "\n",
    "    # Process settings schemas\n",
    "    for key, schema in schemas.items():\n",
    "        schema_name = schema.get(\"name\")\n",
    "        is_active = active_schema == schema_name\n",
    "        is_configured = (Path(config_dir) / f\"{schema_name}.json\").exists()\n",
    "\n",
    "        menu_items.append(\n",
    "            Li(\n",
    "                A(\n",
    "                    Div(\n",
    "                        Span(\n",
    "                            schema.get(\"menu_title\", schema.get(\"title\")),\n",
    "                            cls=str(font_weight.medium if is_active else \"\")\n",
    "                        ),\n",
    "                        Span(\n",
    "                            \"configured\",\n",
    "                            cls=combine_classes(badge, badge_colors.success, badge_sizes.xs, m.l(2))\n",
    "                        ) if is_configured else None,\n",
    "                        cls=combine_classes(flex_display, items.center, justify.between, w.full)\n",
    "                    ),\n",
    "                    href=settings_rt.index.to(id=schema_name),\n",
    "                    hx_get=settings_rt.index.to(id=schema_name),\n",
    "                    hx_target=HtmlIds.as_selector(HtmlIds.SETTINGS_CONTENT),\n",
    "                    hx_push_url=\"true\",\n",
    "                    cls=combine_classes(\n",
    "                        menu_modifiers.active if is_active else \"\",\n",
    "                        transition.colors,\n",
    "                        duration(200)\n",
    "                    )\n",
    "                ),\n",
    "                id=HtmlIds.menu_item(schema_name)\n",
    "            )\n",
    "        )\n",
    "\n",
    "    menu_ul = Ul(\n",
    "        *menu_items,\n",
    "        id=HtmlIds.SIDEBAR_MENU,\n",
    "        cls=combine_classes(\n",
    "            menu,\n",
    "            bg_dui.base_200,\n",
    "            w(64),\n",
    "            p(4),\n",
    "            min_h.full,\n",
    "            border_radius.box\n",
    "        )\n",
    "    )\n",
    "\n",
    "    if include_wrapper:\n",
    "        return Div(\n",
    "            menu_ul,\n",
    "            cls=combine_classes(\n",
    "                position.sticky,\n",
    "                top(20),\n",
    "                h.auto\n",
    "            )\n",
    "        )\n",
    "    else:\n",
    "        return menu_ul"
   ]
  },
  {
   "cell_type": "code",
   "execution_count": null,
   "id": "e4a4cf95",
   "metadata": {},
   "outputs": [
    {
     "data": {
      "text/markdown": [
       "```html\n",
       "<div class=\"sticky top-20 h-auto\">\n",
       "  <ul id=\"sidebar-menu\" class=\"menu bg-base-200 w-64 p-4 min-h-full rounded-box\">\n",
       "    <li>\n",
       "<span class=\"menu-title\">Settings</span>    </li>\n",
       "    <li id=\"menu-item-general\">\n",
       "<a href=\"/settings/?id=general\" hx-get=\"/settings/?id=general\" hx-push-url=\"true\" hx-target=\"#settings-content\" class=\"menu-active transition-colors duration-200\">        <div class=\"flex items-center justify-between w-full\">\n",
       "<span class=\"font-medium\">Application</span>        </div>\n",
       "</a>    </li>\n",
       "    <li id=\"menu-item-custom\">\n",
       "<a href=\"/settings/?id=custom\" hx-get=\"/settings/?id=custom\" hx-push-url=\"true\" hx-target=\"#settings-content\" class=\"transition-colors duration-200\">        <div class=\"flex items-center justify-between w-full\">\n",
       "<span>Custom</span>        </div>\n",
       "</a>    </li>\n",
       "  </ul>\n",
       "</div>\n",
       "\n",
       "```"
      ],
      "text/plain": [
       "div((ul((li((span(('Settings',),{'class': 'menu-title'}),),{}), li((a((div((span(('Application',),{'class': 'font-medium'}), None),{'class': 'flex items-center justify-between w-full'}),),{'href': '/settings/?id=general', 'hx-get': '/settings/?id=general', 'hx-push-url': 'true', 'hx-target': '#settings-content', 'class': 'menu-active transition-colors duration-200'}),),{'id': 'menu-item-general'}), li((a((div((span(('Custom',),{'class': ''}), None),{'class': 'flex items-center justify-between w-full'}),),{'href': '/settings/?id=custom', 'hx-get': '/settings/?id=custom', 'hx-push-url': 'true', 'hx-target': '#settings-content', 'class': 'transition-colors duration-200'}),),{'id': 'menu-item-custom'})),{'id': 'sidebar-menu', 'class': 'menu bg-base-200 w-64 p-4 min-h-full rounded-box'}),),{'class': 'sticky top-20 h-auto'})"
      ]
     },
     "execution_count": null,
     "metadata": {},
     "output_type": "execute_result"
    }
   ],
   "source": [
    "# Example: Create a sidebar menu\n",
    "from cjm_fasthtml_settings.core.config import get_app_config_schema\n",
    "from cjm_fasthtml_settings.core.schemas import SettingsRegistry\n",
    "\n",
    "# Create registry with some schemas\n",
    "registry = SettingsRegistry()\n",
    "registry.register(get_app_config_schema(app_title=\"My App\", include_theme=False))\n",
    "\n",
    "# Custom schema\n",
    "registry.register({\n",
    "    \"name\": \"custom\",\n",
    "    \"title\": \"Custom Settings\",\n",
    "    \"menu_title\": \"Custom\",\n",
    "    \"type\": \"object\",\n",
    "    \"properties\": {}\n",
    "})\n",
    "\n",
    "sidebar = create_sidebar_menu(\n",
    "    schemas=registry.get_all(),\n",
    "    active_schema=\"general\"\n",
    ")\n",
    "\n",
    "sidebar"
   ]
  },
  {
   "cell_type": "code",
   "execution_count": null,
   "id": "bfb871f0",
   "metadata": {},
   "outputs": [],
   "source": []
  },
  {
   "cell_type": "markdown",
   "id": "fa2143c1",
   "metadata": {},
   "source": [
    "## Helper: Create OOB Sidebar Menu"
   ]
  },
  {
   "cell_type": "code",
   "execution_count": null,
   "id": "0b264640",
   "metadata": {},
   "outputs": [],
   "source": [
    "#| export\n",
    "def create_oob_sidebar_menu(\n",
    "    schemas: Dict[str, Dict[str, Any]],  # Dictionary of schemas\n",
    "    active_schema: str,  # Active schema name\n",
    "    config_dir: Optional[Path] = None,  # Config directory\n",
    "    menu_section_title: str = \"Settings\"  # Menu section title\n",
    "):\n",
    "    \"\"\"Create sidebar menu with OOB swap attribute for HTMX.\n",
    "    \n",
    "    This is useful for updating the sidebar menu without a full page reload.\n",
    "    \"\"\"\n",
    "    updated_menu = create_sidebar_menu(\n",
    "        schemas=schemas,\n",
    "        active_schema=active_schema,\n",
    "        config_dir=config_dir,\n",
    "        include_wrapper=False,\n",
    "        menu_section_title=menu_section_title\n",
    "    )\n",
    "    updated_menu.attrs['hx-swap-oob'] = 'true'\n",
    "    return updated_menu"
   ]
  },
  {
   "cell_type": "code",
   "execution_count": null,
   "id": "ebb83295",
   "metadata": {},
   "outputs": [],
   "source": []
  },
  {
   "cell_type": "code",
   "execution_count": null,
   "id": "2f169849",
   "metadata": {},
   "outputs": [],
   "source": []
  },
  {
   "cell_type": "code",
   "execution_count": null,
   "id": "f2a49c0f",
   "metadata": {},
   "outputs": [],
   "source": [
    "#| hide\n",
    "import nbdev; nbdev.nbdev_export()"
   ]
  }
 ],
 "metadata": {
  "kernelspec": {
   "display_name": "python3",
   "language": "python",
   "name": "python3"
  }
 },
 "nbformat": 4,
 "nbformat_minor": 5
}
